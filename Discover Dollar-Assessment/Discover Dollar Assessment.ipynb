{
 "cells": [
  {
   "cell_type": "markdown",
   "metadata": {},
   "source": [
    "# Content Based Movie Recommender System"
   ]
  },
  {
   "cell_type": "code",
   "execution_count": 381,
   "metadata": {},
   "outputs": [],
   "source": [
    "import pandas as pd\n",
    "import numpy as np"
   ]
  },
  {
   "cell_type": "code",
   "execution_count": 382,
   "metadata": {},
   "outputs": [
    {
     "data": {
      "text/html": [
       "<div>\n",
       "<style scoped>\n",
       "    .dataframe tbody tr th:only-of-type {\n",
       "        vertical-align: middle;\n",
       "    }\n",
       "\n",
       "    .dataframe tbody tr th {\n",
       "        vertical-align: top;\n",
       "    }\n",
       "\n",
       "    .dataframe thead th {\n",
       "        text-align: right;\n",
       "    }\n",
       "</style>\n",
       "<table border=\"1\" class=\"dataframe\">\n",
       "  <thead>\n",
       "    <tr style=\"text-align: right;\">\n",
       "      <th></th>\n",
       "      <th>imdb_title_id</th>\n",
       "      <th>title</th>\n",
       "      <th>original_title</th>\n",
       "      <th>year</th>\n",
       "      <th>date_published</th>\n",
       "      <th>genre</th>\n",
       "      <th>duration</th>\n",
       "      <th>country</th>\n",
       "      <th>language</th>\n",
       "      <th>director</th>\n",
       "      <th>...</th>\n",
       "      <th>actors</th>\n",
       "      <th>description</th>\n",
       "      <th>avg_vote</th>\n",
       "      <th>votes</th>\n",
       "      <th>budget</th>\n",
       "      <th>usa_gross_income</th>\n",
       "      <th>worlwide_gross_income</th>\n",
       "      <th>metascore</th>\n",
       "      <th>reviews_from_users</th>\n",
       "      <th>reviews_from_critics</th>\n",
       "    </tr>\n",
       "  </thead>\n",
       "  <tbody>\n",
       "    <tr>\n",
       "      <th>0</th>\n",
       "      <td>tt0458349</td>\n",
       "      <td>Final Contract: Death on Delivery</td>\n",
       "      <td>Final Contract: Death on Delivery</td>\n",
       "      <td>2006</td>\n",
       "      <td>10/11/2008</td>\n",
       "      <td>Action</td>\n",
       "      <td>97</td>\n",
       "      <td>Germany</td>\n",
       "      <td>English</td>\n",
       "      <td>Axel Sand</td>\n",
       "      <td>...</td>\n",
       "      <td>Drew Fuller, Alison King, Ken Bones, Tanja Wen...</td>\n",
       "      <td>David Glover is a young, American man who is w...</td>\n",
       "      <td>5.2</td>\n",
       "      <td>766</td>\n",
       "      <td>NaN</td>\n",
       "      <td>NaN</td>\n",
       "      <td>$1,249,280</td>\n",
       "      <td>NaN</td>\n",
       "      <td>9.0</td>\n",
       "      <td>2.0</td>\n",
       "    </tr>\n",
       "    <tr>\n",
       "      <th>1</th>\n",
       "      <td>tt4711952</td>\n",
       "      <td>Heil</td>\n",
       "      <td>Heil</td>\n",
       "      <td>2015</td>\n",
       "      <td>7/16/2015</td>\n",
       "      <td>Comedy</td>\n",
       "      <td>102</td>\n",
       "      <td>Germany</td>\n",
       "      <td>German</td>\n",
       "      <td>Dietrich BrÃ¼ggemann</td>\n",
       "      <td>...</td>\n",
       "      <td>Benno FÃ¼rmann, Jerry Hoffmann, Liv Lisa Fries...</td>\n",
       "      <td>An African-German Author loses his memory and ...</td>\n",
       "      <td>5.4</td>\n",
       "      <td>703</td>\n",
       "      <td>NaN</td>\n",
       "      <td>NaN</td>\n",
       "      <td>$173,647</td>\n",
       "      <td>NaN</td>\n",
       "      <td>3.0</td>\n",
       "      <td>25.0</td>\n",
       "    </tr>\n",
       "    <tr>\n",
       "      <th>2</th>\n",
       "      <td>tt0047937</td>\n",
       "      <td>Chiyari Fuji</td>\n",
       "      <td>Chiyari Fuji</td>\n",
       "      <td>1955</td>\n",
       "      <td>2/27/1955</td>\n",
       "      <td>Adventure, Drama</td>\n",
       "      <td>94</td>\n",
       "      <td>Japan</td>\n",
       "      <td>Japanese</td>\n",
       "      <td>Tomu Uchida</td>\n",
       "      <td>...</td>\n",
       "      <td>ChiezÃ´ Kataoka, RyÃ»nosuke Tsukigata, Chizuru...</td>\n",
       "      <td>A samurai travels to Edo with his two servants...</td>\n",
       "      <td>7.4</td>\n",
       "      <td>573</td>\n",
       "      <td>NaN</td>\n",
       "      <td>NaN</td>\n",
       "      <td>NaN</td>\n",
       "      <td>NaN</td>\n",
       "      <td>4.0</td>\n",
       "      <td>22.0</td>\n",
       "    </tr>\n",
       "    <tr>\n",
       "      <th>3</th>\n",
       "      <td>tt0030026</td>\n",
       "      <td>Crime School</td>\n",
       "      <td>Crime School</td>\n",
       "      <td>1938</td>\n",
       "      <td>5/28/1938</td>\n",
       "      <td>Crime, Drama</td>\n",
       "      <td>85</td>\n",
       "      <td>USA</td>\n",
       "      <td>English</td>\n",
       "      <td>Lewis Seiler, William Clemens</td>\n",
       "      <td>...</td>\n",
       "      <td>Humphrey Bogart, The Dead End Kids, Gale Page,...</td>\n",
       "      <td>A gang of underprivileged teenagers are senten...</td>\n",
       "      <td>6.6</td>\n",
       "      <td>975</td>\n",
       "      <td>NaN</td>\n",
       "      <td>NaN</td>\n",
       "      <td>NaN</td>\n",
       "      <td>NaN</td>\n",
       "      <td>27.0</td>\n",
       "      <td>7.0</td>\n",
       "    </tr>\n",
       "    <tr>\n",
       "      <th>4</th>\n",
       "      <td>tt0071305</td>\n",
       "      <td>Le chaud lapin</td>\n",
       "      <td>Le chaud lapin</td>\n",
       "      <td>1974</td>\n",
       "      <td>10/30/1974</td>\n",
       "      <td>Comedy</td>\n",
       "      <td>120</td>\n",
       "      <td>France</td>\n",
       "      <td>French</td>\n",
       "      <td>Pascal Thomas</td>\n",
       "      <td>...</td>\n",
       "      <td>Bernard Menez, Daniel Ceccaldi, Claude Barrois...</td>\n",
       "      <td>NaN</td>\n",
       "      <td>5.7</td>\n",
       "      <td>126</td>\n",
       "      <td>NaN</td>\n",
       "      <td>NaN</td>\n",
       "      <td>NaN</td>\n",
       "      <td>NaN</td>\n",
       "      <td>1.0</td>\n",
       "      <td>1.0</td>\n",
       "    </tr>\n",
       "  </tbody>\n",
       "</table>\n",
       "<p>5 rows × 22 columns</p>\n",
       "</div>"
      ],
      "text/plain": [
       "  imdb_title_id                              title  \\\n",
       "0     tt0458349  Final Contract: Death on Delivery   \n",
       "1     tt4711952                               Heil   \n",
       "2     tt0047937                       Chiyari Fuji   \n",
       "3     tt0030026                       Crime School   \n",
       "4     tt0071305                     Le chaud lapin   \n",
       "\n",
       "                      original_title  year date_published             genre  \\\n",
       "0  Final Contract: Death on Delivery  2006     10/11/2008            Action   \n",
       "1                               Heil  2015      7/16/2015            Comedy   \n",
       "2                       Chiyari Fuji  1955      2/27/1955  Adventure, Drama   \n",
       "3                       Crime School  1938      5/28/1938      Crime, Drama   \n",
       "4                     Le chaud lapin  1974     10/30/1974            Comedy   \n",
       "\n",
       "   duration  country  language                       director  ...  \\\n",
       "0        97  Germany   English                      Axel Sand  ...   \n",
       "1       102  Germany    German           Dietrich BrÃ¼ggemann  ...   \n",
       "2        94    Japan  Japanese                    Tomu Uchida  ...   \n",
       "3        85      USA   English  Lewis Seiler, William Clemens  ...   \n",
       "4       120   France    French                  Pascal Thomas  ...   \n",
       "\n",
       "                                              actors  \\\n",
       "0  Drew Fuller, Alison King, Ken Bones, Tanja Wen...   \n",
       "1  Benno FÃ¼rmann, Jerry Hoffmann, Liv Lisa Fries...   \n",
       "2  ChiezÃ´ Kataoka, RyÃ»nosuke Tsukigata, Chizuru...   \n",
       "3  Humphrey Bogart, The Dead End Kids, Gale Page,...   \n",
       "4  Bernard Menez, Daniel Ceccaldi, Claude Barrois...   \n",
       "\n",
       "                                         description avg_vote votes  budget  \\\n",
       "0  David Glover is a young, American man who is w...      5.2   766     NaN   \n",
       "1  An African-German Author loses his memory and ...      5.4   703     NaN   \n",
       "2  A samurai travels to Edo with his two servants...      7.4   573     NaN   \n",
       "3  A gang of underprivileged teenagers are senten...      6.6   975     NaN   \n",
       "4                                                NaN      5.7   126     NaN   \n",
       "\n",
       "   usa_gross_income worlwide_gross_income metascore reviews_from_users  \\\n",
       "0               NaN           $1,249,280        NaN                9.0   \n",
       "1               NaN             $173,647        NaN                3.0   \n",
       "2               NaN                   NaN       NaN                4.0   \n",
       "3               NaN                   NaN       NaN               27.0   \n",
       "4               NaN                   NaN       NaN                1.0   \n",
       "\n",
       "   reviews_from_critics  \n",
       "0                   2.0  \n",
       "1                  25.0  \n",
       "2                  22.0  \n",
       "3                   7.0  \n",
       "4                   1.0  \n",
       "\n",
       "[5 rows x 22 columns]"
      ]
     },
     "execution_count": 382,
     "metadata": {},
     "output_type": "execute_result"
    }
   ],
   "source": [
    "#import the movies data\n",
    "m_data = pd.read_csv(\"IMDB_movies.csv\")\n",
    "m_data.head()"
   ]
  },
  {
   "cell_type": "code",
   "execution_count": 383,
   "metadata": {},
   "outputs": [
    {
     "data": {
      "text/plain": [
       "(59164, 22)"
      ]
     },
     "execution_count": 383,
     "metadata": {},
     "output_type": "execute_result"
    }
   ],
   "source": [
    "m_data.shape # Number of rows & columns"
   ]
  },
  {
   "cell_type": "code",
   "execution_count": 384,
   "metadata": {},
   "outputs": [
    {
     "data": {
      "text/html": [
       "<div>\n",
       "<style scoped>\n",
       "    .dataframe tbody tr th:only-of-type {\n",
       "        vertical-align: middle;\n",
       "    }\n",
       "\n",
       "    .dataframe tbody tr th {\n",
       "        vertical-align: top;\n",
       "    }\n",
       "\n",
       "    .dataframe thead th {\n",
       "        text-align: right;\n",
       "    }\n",
       "</style>\n",
       "<table border=\"1\" class=\"dataframe\">\n",
       "  <thead>\n",
       "    <tr style=\"text-align: right;\">\n",
       "      <th></th>\n",
       "      <th>year</th>\n",
       "      <th>duration</th>\n",
       "      <th>avg_vote</th>\n",
       "      <th>votes</th>\n",
       "      <th>metascore</th>\n",
       "      <th>reviews_from_users</th>\n",
       "      <th>reviews_from_critics</th>\n",
       "    </tr>\n",
       "  </thead>\n",
       "  <tbody>\n",
       "    <tr>\n",
       "      <th>count</th>\n",
       "      <td>59164.000000</td>\n",
       "      <td>59164.000000</td>\n",
       "      <td>59164.000000</td>\n",
       "      <td>5.916400e+04</td>\n",
       "      <td>9264.000000</td>\n",
       "      <td>54033.000000</td>\n",
       "      <td>51150.000000</td>\n",
       "    </tr>\n",
       "    <tr>\n",
       "      <th>mean</th>\n",
       "      <td>1992.899567</td>\n",
       "      <td>100.567575</td>\n",
       "      <td>5.931198</td>\n",
       "      <td>9.316266e+03</td>\n",
       "      <td>55.810557</td>\n",
       "      <td>43.163567</td>\n",
       "      <td>27.892747</td>\n",
       "    </tr>\n",
       "    <tr>\n",
       "      <th>std</th>\n",
       "      <td>24.028027</td>\n",
       "      <td>26.494961</td>\n",
       "      <td>1.240787</td>\n",
       "      <td>5.217047e+04</td>\n",
       "      <td>17.743438</td>\n",
       "      <td>157.113555</td>\n",
       "      <td>58.679236</td>\n",
       "    </tr>\n",
       "    <tr>\n",
       "      <th>min</th>\n",
       "      <td>1906.000000</td>\n",
       "      <td>40.000000</td>\n",
       "      <td>1.000000</td>\n",
       "      <td>1.000000e+02</td>\n",
       "      <td>1.000000</td>\n",
       "      <td>1.000000</td>\n",
       "      <td>1.000000</td>\n",
       "    </tr>\n",
       "    <tr>\n",
       "      <th>25%</th>\n",
       "      <td>1978.000000</td>\n",
       "      <td>88.000000</td>\n",
       "      <td>5.300000</td>\n",
       "      <td>2.060000e+02</td>\n",
       "      <td>44.000000</td>\n",
       "      <td>4.000000</td>\n",
       "      <td>3.000000</td>\n",
       "    </tr>\n",
       "    <tr>\n",
       "      <th>50%</th>\n",
       "      <td>2002.000000</td>\n",
       "      <td>96.000000</td>\n",
       "      <td>6.100000</td>\n",
       "      <td>4.960000e+02</td>\n",
       "      <td>56.000000</td>\n",
       "      <td>9.000000</td>\n",
       "      <td>8.000000</td>\n",
       "    </tr>\n",
       "    <tr>\n",
       "      <th>75%</th>\n",
       "      <td>2012.000000</td>\n",
       "      <td>108.000000</td>\n",
       "      <td>6.800000</td>\n",
       "      <td>1.863250e+03</td>\n",
       "      <td>69.000000</td>\n",
       "      <td>26.000000</td>\n",
       "      <td>24.000000</td>\n",
       "    </tr>\n",
       "    <tr>\n",
       "      <th>max</th>\n",
       "      <td>2019.000000</td>\n",
       "      <td>3360.000000</td>\n",
       "      <td>10.000000</td>\n",
       "      <td>2.159628e+06</td>\n",
       "      <td>100.000000</td>\n",
       "      <td>8302.000000</td>\n",
       "      <td>883.000000</td>\n",
       "    </tr>\n",
       "  </tbody>\n",
       "</table>\n",
       "</div>"
      ],
      "text/plain": [
       "               year      duration      avg_vote         votes    metascore  \\\n",
       "count  59164.000000  59164.000000  59164.000000  5.916400e+04  9264.000000   \n",
       "mean    1992.899567    100.567575      5.931198  9.316266e+03    55.810557   \n",
       "std       24.028027     26.494961      1.240787  5.217047e+04    17.743438   \n",
       "min     1906.000000     40.000000      1.000000  1.000000e+02     1.000000   \n",
       "25%     1978.000000     88.000000      5.300000  2.060000e+02    44.000000   \n",
       "50%     2002.000000     96.000000      6.100000  4.960000e+02    56.000000   \n",
       "75%     2012.000000    108.000000      6.800000  1.863250e+03    69.000000   \n",
       "max     2019.000000   3360.000000     10.000000  2.159628e+06   100.000000   \n",
       "\n",
       "       reviews_from_users  reviews_from_critics  \n",
       "count        54033.000000          51150.000000  \n",
       "mean            43.163567             27.892747  \n",
       "std            157.113555             58.679236  \n",
       "min              1.000000              1.000000  \n",
       "25%              4.000000              3.000000  \n",
       "50%              9.000000              8.000000  \n",
       "75%             26.000000             24.000000  \n",
       "max           8302.000000            883.000000  "
      ]
     },
     "execution_count": 384,
     "metadata": {},
     "output_type": "execute_result"
    }
   ],
   "source": [
    "m_data.describe() #Statistical summary of the data "
   ]
  },
  {
   "cell_type": "code",
   "execution_count": 385,
   "metadata": {},
   "outputs": [
    {
     "name": "stdout",
     "output_type": "stream",
     "text": [
      "<class 'pandas.core.frame.DataFrame'>\n",
      "RangeIndex: 59164 entries, 0 to 59163\n",
      "Data columns (total 22 columns):\n",
      " #   Column                 Non-Null Count  Dtype  \n",
      "---  ------                 --------------  -----  \n",
      " 0   imdb_title_id          59164 non-null  object \n",
      " 1   title                  59164 non-null  object \n",
      " 2   original_title         59164 non-null  object \n",
      " 3   year                   59164 non-null  int64  \n",
      " 4   date_published         59164 non-null  object \n",
      " 5   genre                  59164 non-null  object \n",
      " 6   duration               59164 non-null  int64  \n",
      " 7   country                59135 non-null  object \n",
      " 8   language               58610 non-null  object \n",
      " 9   director               59106 non-null  object \n",
      " 10  writer                 58080 non-null  object \n",
      " 11  production_company     56007 non-null  object \n",
      " 12  actors                 59122 non-null  object \n",
      " 13  description            57396 non-null  object \n",
      " 14  avg_vote               59164 non-null  float64\n",
      " 15  votes                  59164 non-null  int64  \n",
      " 16  budget                 16578 non-null  object \n",
      " 17  usa_gross_income       10977 non-null  object \n",
      " 18  worlwide_gross_income  21713 non-null  object \n",
      " 19  metascore              9264 non-null   float64\n",
      " 20  reviews_from_users     54033 non-null  float64\n",
      " 21  reviews_from_critics   51150 non-null  float64\n",
      "dtypes: float64(4), int64(3), object(15)\n",
      "memory usage: 9.9+ MB\n"
     ]
    }
   ],
   "source": [
    "m_data.info()"
   ]
  },
  {
   "cell_type": "markdown",
   "metadata": {},
   "source": [
    "__From above we can observe that there are some missing values in few of the features__"
   ]
  },
  {
   "cell_type": "markdown",
   "metadata": {},
   "source": [
    "## IMBD Ratings Data Set"
   ]
  },
  {
   "cell_type": "code",
   "execution_count": 386,
   "metadata": {
    "scrolled": true
   },
   "outputs": [
    {
     "data": {
      "text/html": [
       "<div>\n",
       "<style scoped>\n",
       "    .dataframe tbody tr th:only-of-type {\n",
       "        vertical-align: middle;\n",
       "    }\n",
       "\n",
       "    .dataframe tbody tr th {\n",
       "        vertical-align: top;\n",
       "    }\n",
       "\n",
       "    .dataframe thead th {\n",
       "        text-align: right;\n",
       "    }\n",
       "</style>\n",
       "<table border=\"1\" class=\"dataframe\">\n",
       "  <thead>\n",
       "    <tr style=\"text-align: right;\">\n",
       "      <th></th>\n",
       "      <th>imdb_title_id</th>\n",
       "      <th>weighted_average_vote</th>\n",
       "      <th>total_votes</th>\n",
       "      <th>mean_vote</th>\n",
       "      <th>median_vote</th>\n",
       "      <th>votes_10</th>\n",
       "      <th>votes_9</th>\n",
       "      <th>votes_8</th>\n",
       "      <th>votes_7</th>\n",
       "      <th>votes_6</th>\n",
       "      <th>...</th>\n",
       "      <th>females_30age_avg_vote</th>\n",
       "      <th>females_30age_votes</th>\n",
       "      <th>females_45age_avg_vote</th>\n",
       "      <th>females_45age_votes</th>\n",
       "      <th>top1000_voters_rating</th>\n",
       "      <th>top1000_voters_votes</th>\n",
       "      <th>us_voters_rating</th>\n",
       "      <th>us_voters_votes</th>\n",
       "      <th>non_us_voters_rating</th>\n",
       "      <th>non_us_voters_votes</th>\n",
       "    </tr>\n",
       "  </thead>\n",
       "  <tbody>\n",
       "    <tr>\n",
       "      <th>0</th>\n",
       "      <td>tt0458349</td>\n",
       "      <td>5.2</td>\n",
       "      <td>766</td>\n",
       "      <td>6.3</td>\n",
       "      <td>6.0</td>\n",
       "      <td>201</td>\n",
       "      <td>27</td>\n",
       "      <td>49</td>\n",
       "      <td>79</td>\n",
       "      <td>99</td>\n",
       "      <td>...</td>\n",
       "      <td>5.7</td>\n",
       "      <td>109.0</td>\n",
       "      <td>6.1</td>\n",
       "      <td>33.0</td>\n",
       "      <td>5.0</td>\n",
       "      <td>23.0</td>\n",
       "      <td>5.1</td>\n",
       "      <td>207.0</td>\n",
       "      <td>5.2</td>\n",
       "      <td>424.0</td>\n",
       "    </tr>\n",
       "    <tr>\n",
       "      <th>1</th>\n",
       "      <td>tt4711952</td>\n",
       "      <td>5.4</td>\n",
       "      <td>703</td>\n",
       "      <td>5.4</td>\n",
       "      <td>5.0</td>\n",
       "      <td>18</td>\n",
       "      <td>30</td>\n",
       "      <td>67</td>\n",
       "      <td>97</td>\n",
       "      <td>133</td>\n",
       "      <td>...</td>\n",
       "      <td>5.9</td>\n",
       "      <td>22.0</td>\n",
       "      <td>4.3</td>\n",
       "      <td>8.0</td>\n",
       "      <td>5.7</td>\n",
       "      <td>17.0</td>\n",
       "      <td>6.2</td>\n",
       "      <td>14.0</td>\n",
       "      <td>5.5</td>\n",
       "      <td>448.0</td>\n",
       "    </tr>\n",
       "    <tr>\n",
       "      <th>2</th>\n",
       "      <td>tt0047937</td>\n",
       "      <td>7.4</td>\n",
       "      <td>573</td>\n",
       "      <td>7.4</td>\n",
       "      <td>8.0</td>\n",
       "      <td>67</td>\n",
       "      <td>60</td>\n",
       "      <td>179</td>\n",
       "      <td>144</td>\n",
       "      <td>69</td>\n",
       "      <td>...</td>\n",
       "      <td>7.6</td>\n",
       "      <td>23.0</td>\n",
       "      <td>7.6</td>\n",
       "      <td>17.0</td>\n",
       "      <td>6.5</td>\n",
       "      <td>70.0</td>\n",
       "      <td>7.1</td>\n",
       "      <td>78.0</td>\n",
       "      <td>7.4</td>\n",
       "      <td>392.0</td>\n",
       "    </tr>\n",
       "    <tr>\n",
       "      <th>3</th>\n",
       "      <td>tt0030026</td>\n",
       "      <td>6.6</td>\n",
       "      <td>975</td>\n",
       "      <td>7.1</td>\n",
       "      <td>7.0</td>\n",
       "      <td>109</td>\n",
       "      <td>96</td>\n",
       "      <td>139</td>\n",
       "      <td>296</td>\n",
       "      <td>193</td>\n",
       "      <td>...</td>\n",
       "      <td>6.0</td>\n",
       "      <td>55.0</td>\n",
       "      <td>6.7</td>\n",
       "      <td>59.0</td>\n",
       "      <td>6.4</td>\n",
       "      <td>113.0</td>\n",
       "      <td>6.6</td>\n",
       "      <td>566.0</td>\n",
       "      <td>6.6</td>\n",
       "      <td>195.0</td>\n",
       "    </tr>\n",
       "    <tr>\n",
       "      <th>4</th>\n",
       "      <td>tt0071305</td>\n",
       "      <td>5.7</td>\n",
       "      <td>126</td>\n",
       "      <td>6.0</td>\n",
       "      <td>6.0</td>\n",
       "      <td>8</td>\n",
       "      <td>9</td>\n",
       "      <td>18</td>\n",
       "      <td>17</td>\n",
       "      <td>27</td>\n",
       "      <td>...</td>\n",
       "      <td>5.0</td>\n",
       "      <td>1.0</td>\n",
       "      <td>5.0</td>\n",
       "      <td>1.0</td>\n",
       "      <td>4.7</td>\n",
       "      <td>13.0</td>\n",
       "      <td>5.8</td>\n",
       "      <td>4.0</td>\n",
       "      <td>5.7</td>\n",
       "      <td>91.0</td>\n",
       "    </tr>\n",
       "  </tbody>\n",
       "</table>\n",
       "<p>5 rows × 49 columns</p>\n",
       "</div>"
      ],
      "text/plain": [
       "  imdb_title_id  weighted_average_vote  total_votes  mean_vote  median_vote  \\\n",
       "0     tt0458349                    5.2          766        6.3          6.0   \n",
       "1     tt4711952                    5.4          703        5.4          5.0   \n",
       "2     tt0047937                    7.4          573        7.4          8.0   \n",
       "3     tt0030026                    6.6          975        7.1          7.0   \n",
       "4     tt0071305                    5.7          126        6.0          6.0   \n",
       "\n",
       "   votes_10  votes_9  votes_8  votes_7  votes_6  ...  females_30age_avg_vote  \\\n",
       "0       201       27       49       79       99  ...                     5.7   \n",
       "1        18       30       67       97      133  ...                     5.9   \n",
       "2        67       60      179      144       69  ...                     7.6   \n",
       "3       109       96      139      296      193  ...                     6.0   \n",
       "4         8        9       18       17       27  ...                     5.0   \n",
       "\n",
       "   females_30age_votes  females_45age_avg_vote  females_45age_votes  \\\n",
       "0                109.0                     6.1                 33.0   \n",
       "1                 22.0                     4.3                  8.0   \n",
       "2                 23.0                     7.6                 17.0   \n",
       "3                 55.0                     6.7                 59.0   \n",
       "4                  1.0                     5.0                  1.0   \n",
       "\n",
       "   top1000_voters_rating  top1000_voters_votes  us_voters_rating  \\\n",
       "0                    5.0                  23.0               5.1   \n",
       "1                    5.7                  17.0               6.2   \n",
       "2                    6.5                  70.0               7.1   \n",
       "3                    6.4                 113.0               6.6   \n",
       "4                    4.7                  13.0               5.8   \n",
       "\n",
       "   us_voters_votes  non_us_voters_rating  non_us_voters_votes  \n",
       "0            207.0                   5.2                424.0  \n",
       "1             14.0                   5.5                448.0  \n",
       "2             78.0                   7.4                392.0  \n",
       "3            566.0                   6.6                195.0  \n",
       "4              4.0                   5.7                 91.0  \n",
       "\n",
       "[5 rows x 49 columns]"
      ]
     },
     "execution_count": 386,
     "metadata": {},
     "output_type": "execute_result"
    }
   ],
   "source": [
    "#import the ratings data\n",
    "r_data = pd.read_csv(\"IMDB_ratings.csv\")\n",
    "r_data.head()"
   ]
  },
  {
   "cell_type": "code",
   "execution_count": 387,
   "metadata": {},
   "outputs": [
    {
     "data": {
      "text/html": [
       "<div>\n",
       "<style scoped>\n",
       "    .dataframe tbody tr th:only-of-type {\n",
       "        vertical-align: middle;\n",
       "    }\n",
       "\n",
       "    .dataframe tbody tr th {\n",
       "        vertical-align: top;\n",
       "    }\n",
       "\n",
       "    .dataframe thead th {\n",
       "        text-align: right;\n",
       "    }\n",
       "</style>\n",
       "<table border=\"1\" class=\"dataframe\">\n",
       "  <thead>\n",
       "    <tr style=\"text-align: right;\">\n",
       "      <th></th>\n",
       "      <th>weighted_average_vote</th>\n",
       "      <th>total_votes</th>\n",
       "      <th>mean_vote</th>\n",
       "      <th>median_vote</th>\n",
       "      <th>votes_10</th>\n",
       "      <th>votes_9</th>\n",
       "      <th>votes_8</th>\n",
       "      <th>votes_7</th>\n",
       "      <th>votes_6</th>\n",
       "      <th>votes_5</th>\n",
       "      <th>...</th>\n",
       "      <th>females_30age_avg_vote</th>\n",
       "      <th>females_30age_votes</th>\n",
       "      <th>females_45age_avg_vote</th>\n",
       "      <th>females_45age_votes</th>\n",
       "      <th>top1000_voters_rating</th>\n",
       "      <th>top1000_voters_votes</th>\n",
       "      <th>us_voters_rating</th>\n",
       "      <th>us_voters_votes</th>\n",
       "      <th>non_us_voters_rating</th>\n",
       "      <th>non_us_voters_votes</th>\n",
       "    </tr>\n",
       "  </thead>\n",
       "  <tbody>\n",
       "    <tr>\n",
       "      <th>count</th>\n",
       "      <td>60954.000000</td>\n",
       "      <td>6.095400e+04</td>\n",
       "      <td>60954.000000</td>\n",
       "      <td>60954.000000</td>\n",
       "      <td>6.095400e+04</td>\n",
       "      <td>60954.000000</td>\n",
       "      <td>60954.000000</td>\n",
       "      <td>60954.000000</td>\n",
       "      <td>60954.000000</td>\n",
       "      <td>60954.000000</td>\n",
       "      <td>...</td>\n",
       "      <td>60319.000000</td>\n",
       "      <td>60319.000000</td>\n",
       "      <td>59052.000000</td>\n",
       "      <td>59052.000000</td>\n",
       "      <td>60510.000000</td>\n",
       "      <td>60510.000000</td>\n",
       "      <td>60783.000000</td>\n",
       "      <td>60783.000000</td>\n",
       "      <td>60950.000000</td>\n",
       "      <td>60950.000000</td>\n",
       "    </tr>\n",
       "    <tr>\n",
       "      <th>mean</th>\n",
       "      <td>5.930786</td>\n",
       "      <td>9.358370e+03</td>\n",
       "      <td>6.261441</td>\n",
       "      <td>6.307043</td>\n",
       "      <td>1.224412e+03</td>\n",
       "      <td>1184.828494</td>\n",
       "      <td>1999.828625</td>\n",
       "      <td>2066.923943</td>\n",
       "      <td>1324.027431</td>\n",
       "      <td>686.910031</td>\n",
       "      <td>...</td>\n",
       "      <td>6.108109</td>\n",
       "      <td>628.522174</td>\n",
       "      <td>6.064066</td>\n",
       "      <td>183.255690</td>\n",
       "      <td>5.142788</td>\n",
       "      <td>77.087225</td>\n",
       "      <td>5.972037</td>\n",
       "      <td>1665.026784</td>\n",
       "      <td>5.780166</td>\n",
       "      <td>4333.573798</td>\n",
       "    </tr>\n",
       "    <tr>\n",
       "      <th>std</th>\n",
       "      <td>1.241985</td>\n",
       "      <td>5.260017e+04</td>\n",
       "      <td>1.159956</td>\n",
       "      <td>1.489783</td>\n",
       "      <td>1.271852e+04</td>\n",
       "      <td>11562.391050</td>\n",
       "      <td>13306.915608</td>\n",
       "      <td>10424.738319</td>\n",
       "      <td>5783.953864</td>\n",
       "      <td>2847.884532</td>\n",
       "      <td>...</td>\n",
       "      <td>1.448857</td>\n",
       "      <td>3355.178692</td>\n",
       "      <td>1.541696</td>\n",
       "      <td>774.669266</td>\n",
       "      <td>1.312522</td>\n",
       "      <td>126.629788</td>\n",
       "      <td>1.321042</td>\n",
       "      <td>8493.834140</td>\n",
       "      <td>1.294144</td>\n",
       "      <td>23144.808336</td>\n",
       "    </tr>\n",
       "    <tr>\n",
       "      <th>min</th>\n",
       "      <td>1.000000</td>\n",
       "      <td>1.000000e+02</td>\n",
       "      <td>1.000000</td>\n",
       "      <td>1.000000</td>\n",
       "      <td>0.000000e+00</td>\n",
       "      <td>0.000000</td>\n",
       "      <td>0.000000</td>\n",
       "      <td>0.000000</td>\n",
       "      <td>0.000000</td>\n",
       "      <td>0.000000</td>\n",
       "      <td>...</td>\n",
       "      <td>1.000000</td>\n",
       "      <td>1.000000</td>\n",
       "      <td>1.000000</td>\n",
       "      <td>1.000000</td>\n",
       "      <td>1.000000</td>\n",
       "      <td>1.000000</td>\n",
       "      <td>1.000000</td>\n",
       "      <td>1.000000</td>\n",
       "      <td>1.000000</td>\n",
       "      <td>1.000000</td>\n",
       "    </tr>\n",
       "    <tr>\n",
       "      <th>25%</th>\n",
       "      <td>5.300000</td>\n",
       "      <td>2.060000e+02</td>\n",
       "      <td>5.600000</td>\n",
       "      <td>6.000000</td>\n",
       "      <td>2.200000e+01</td>\n",
       "      <td>9.000000</td>\n",
       "      <td>18.000000</td>\n",
       "      <td>29.000000</td>\n",
       "      <td>30.000000</td>\n",
       "      <td>22.000000</td>\n",
       "      <td>...</td>\n",
       "      <td>5.300000</td>\n",
       "      <td>10.000000</td>\n",
       "      <td>5.300000</td>\n",
       "      <td>6.000000</td>\n",
       "      <td>4.300000</td>\n",
       "      <td>12.000000</td>\n",
       "      <td>5.200000</td>\n",
       "      <td>24.000000</td>\n",
       "      <td>5.100000</td>\n",
       "      <td>97.000000</td>\n",
       "    </tr>\n",
       "    <tr>\n",
       "      <th>50%</th>\n",
       "      <td>6.200000</td>\n",
       "      <td>4.960000e+02</td>\n",
       "      <td>6.400000</td>\n",
       "      <td>7.000000</td>\n",
       "      <td>5.400000e+01</td>\n",
       "      <td>25.000000</td>\n",
       "      <td>52.000000</td>\n",
       "      <td>79.000000</td>\n",
       "      <td>76.000000</td>\n",
       "      <td>52.000000</td>\n",
       "      <td>...</td>\n",
       "      <td>6.300000</td>\n",
       "      <td>27.000000</td>\n",
       "      <td>6.300000</td>\n",
       "      <td>17.000000</td>\n",
       "      <td>5.300000</td>\n",
       "      <td>28.000000</td>\n",
       "      <td>6.200000</td>\n",
       "      <td>85.000000</td>\n",
       "      <td>6.000000</td>\n",
       "      <td>234.000000</td>\n",
       "    </tr>\n",
       "    <tr>\n",
       "      <th>75%</th>\n",
       "      <td>6.800000</td>\n",
       "      <td>1.862000e+03</td>\n",
       "      <td>7.100000</td>\n",
       "      <td>7.000000</td>\n",
       "      <td>2.040000e+02</td>\n",
       "      <td>120.000000</td>\n",
       "      <td>250.000000</td>\n",
       "      <td>357.000000</td>\n",
       "      <td>296.000000</td>\n",
       "      <td>182.000000</td>\n",
       "      <td>...</td>\n",
       "      <td>7.000000</td>\n",
       "      <td>111.000000</td>\n",
       "      <td>7.000000</td>\n",
       "      <td>63.000000</td>\n",
       "      <td>6.075000</td>\n",
       "      <td>77.000000</td>\n",
       "      <td>6.900000</td>\n",
       "      <td>363.000000</td>\n",
       "      <td>6.700000</td>\n",
       "      <td>893.750000</td>\n",
       "    </tr>\n",
       "    <tr>\n",
       "      <th>max</th>\n",
       "      <td>10.000000</td>\n",
       "      <td>2.159628e+06</td>\n",
       "      <td>10.000000</td>\n",
       "      <td>10.000000</td>\n",
       "      <td>1.197087e+06</td>\n",
       "      <td>596808.000000</td>\n",
       "      <td>369109.000000</td>\n",
       "      <td>231381.000000</td>\n",
       "      <td>130026.000000</td>\n",
       "      <td>65518.000000</td>\n",
       "      <td>...</td>\n",
       "      <td>10.000000</td>\n",
       "      <td>114034.000000</td>\n",
       "      <td>10.000000</td>\n",
       "      <td>30244.000000</td>\n",
       "      <td>10.000000</td>\n",
       "      <td>936.000000</td>\n",
       "      <td>10.000000</td>\n",
       "      <td>341457.000000</td>\n",
       "      <td>10.000000</td>\n",
       "      <td>862970.000000</td>\n",
       "    </tr>\n",
       "  </tbody>\n",
       "</table>\n",
       "<p>8 rows × 48 columns</p>\n",
       "</div>"
      ],
      "text/plain": [
       "       weighted_average_vote   total_votes     mean_vote   median_vote  \\\n",
       "count           60954.000000  6.095400e+04  60954.000000  60954.000000   \n",
       "mean                5.930786  9.358370e+03      6.261441      6.307043   \n",
       "std                 1.241985  5.260017e+04      1.159956      1.489783   \n",
       "min                 1.000000  1.000000e+02      1.000000      1.000000   \n",
       "25%                 5.300000  2.060000e+02      5.600000      6.000000   \n",
       "50%                 6.200000  4.960000e+02      6.400000      7.000000   \n",
       "75%                 6.800000  1.862000e+03      7.100000      7.000000   \n",
       "max                10.000000  2.159628e+06     10.000000     10.000000   \n",
       "\n",
       "           votes_10        votes_9        votes_8        votes_7  \\\n",
       "count  6.095400e+04   60954.000000   60954.000000   60954.000000   \n",
       "mean   1.224412e+03    1184.828494    1999.828625    2066.923943   \n",
       "std    1.271852e+04   11562.391050   13306.915608   10424.738319   \n",
       "min    0.000000e+00       0.000000       0.000000       0.000000   \n",
       "25%    2.200000e+01       9.000000      18.000000      29.000000   \n",
       "50%    5.400000e+01      25.000000      52.000000      79.000000   \n",
       "75%    2.040000e+02     120.000000     250.000000     357.000000   \n",
       "max    1.197087e+06  596808.000000  369109.000000  231381.000000   \n",
       "\n",
       "             votes_6       votes_5  ...  females_30age_avg_vote  \\\n",
       "count   60954.000000  60954.000000  ...            60319.000000   \n",
       "mean     1324.027431    686.910031  ...                6.108109   \n",
       "std      5783.953864   2847.884532  ...                1.448857   \n",
       "min         0.000000      0.000000  ...                1.000000   \n",
       "25%        30.000000     22.000000  ...                5.300000   \n",
       "50%        76.000000     52.000000  ...                6.300000   \n",
       "75%       296.000000    182.000000  ...                7.000000   \n",
       "max    130026.000000  65518.000000  ...               10.000000   \n",
       "\n",
       "       females_30age_votes  females_45age_avg_vote  females_45age_votes  \\\n",
       "count         60319.000000            59052.000000         59052.000000   \n",
       "mean            628.522174                6.064066           183.255690   \n",
       "std            3355.178692                1.541696           774.669266   \n",
       "min               1.000000                1.000000             1.000000   \n",
       "25%              10.000000                5.300000             6.000000   \n",
       "50%              27.000000                6.300000            17.000000   \n",
       "75%             111.000000                7.000000            63.000000   \n",
       "max          114034.000000               10.000000         30244.000000   \n",
       "\n",
       "       top1000_voters_rating  top1000_voters_votes  us_voters_rating  \\\n",
       "count           60510.000000          60510.000000      60783.000000   \n",
       "mean                5.142788             77.087225          5.972037   \n",
       "std                 1.312522            126.629788          1.321042   \n",
       "min                 1.000000              1.000000          1.000000   \n",
       "25%                 4.300000             12.000000          5.200000   \n",
       "50%                 5.300000             28.000000          6.200000   \n",
       "75%                 6.075000             77.000000          6.900000   \n",
       "max                10.000000            936.000000         10.000000   \n",
       "\n",
       "       us_voters_votes  non_us_voters_rating  non_us_voters_votes  \n",
       "count     60783.000000          60950.000000         60950.000000  \n",
       "mean       1665.026784              5.780166          4333.573798  \n",
       "std        8493.834140              1.294144         23144.808336  \n",
       "min           1.000000              1.000000             1.000000  \n",
       "25%          24.000000              5.100000            97.000000  \n",
       "50%          85.000000              6.000000           234.000000  \n",
       "75%         363.000000              6.700000           893.750000  \n",
       "max      341457.000000             10.000000        862970.000000  \n",
       "\n",
       "[8 rows x 48 columns]"
      ]
     },
     "execution_count": 387,
     "metadata": {},
     "output_type": "execute_result"
    }
   ],
   "source": [
    "r_data.describe()"
   ]
  },
  {
   "cell_type": "code",
   "execution_count": 388,
   "metadata": {},
   "outputs": [
    {
     "data": {
      "text/plain": [
       "(60954, 49)"
      ]
     },
     "execution_count": 388,
     "metadata": {},
     "output_type": "execute_result"
    }
   ],
   "source": [
    "r_data.shape"
   ]
  },
  {
   "cell_type": "code",
   "execution_count": 389,
   "metadata": {},
   "outputs": [
    {
     "name": "stdout",
     "output_type": "stream",
     "text": [
      "<class 'pandas.core.frame.DataFrame'>\n",
      "RangeIndex: 60954 entries, 0 to 60953\n",
      "Data columns (total 49 columns):\n",
      " #   Column                     Non-Null Count  Dtype  \n",
      "---  ------                     --------------  -----  \n",
      " 0   imdb_title_id              60954 non-null  object \n",
      " 1   weighted_average_vote      60954 non-null  float64\n",
      " 2   total_votes                60954 non-null  int64  \n",
      " 3   mean_vote                  60954 non-null  float64\n",
      " 4   median_vote                60954 non-null  float64\n",
      " 5   votes_10                   60954 non-null  int64  \n",
      " 6   votes_9                    60954 non-null  int64  \n",
      " 7   votes_8                    60954 non-null  int64  \n",
      " 8   votes_7                    60954 non-null  int64  \n",
      " 9   votes_6                    60954 non-null  int64  \n",
      " 10  votes_5                    60954 non-null  int64  \n",
      " 11  votes_4                    60954 non-null  int64  \n",
      " 12  votes_3                    60954 non-null  int64  \n",
      " 13  votes_2                    60954 non-null  int64  \n",
      " 14  votes_1                    60954 non-null  int64  \n",
      " 15  allgenders_0age_avg_vote   19900 non-null  float64\n",
      " 16  allgenders_0age_votes      19900 non-null  float64\n",
      " 17  allgenders_18age_avg_vote  60631 non-null  float64\n",
      " 18  allgenders_18age_votes     60631 non-null  float64\n",
      " 19  allgenders_30age_avg_vote  60945 non-null  float64\n",
      " 20  allgenders_30age_votes     60945 non-null  float64\n",
      " 21  allgenders_45age_avg_vote  60869 non-null  float64\n",
      " 22  allgenders_45age_votes     60869 non-null  float64\n",
      " 23  males_allages_avg_vote     60953 non-null  float64\n",
      " 24  males_allages_votes        60953 non-null  float64\n",
      " 25  males_0age_avg_vote        15233 non-null  float64\n",
      " 26  males_0age_votes           15233 non-null  float64\n",
      " 27  males_18age_avg_vote       60154 non-null  float64\n",
      " 28  males_18age_votes          60154 non-null  float64\n",
      " 29  males_30age_avg_vote       60945 non-null  float64\n",
      " 30  males_30age_votes          60945 non-null  float64\n",
      " 31  males_45age_avg_vote       60839 non-null  float64\n",
      " 32  males_45age_votes          60839 non-null  float64\n",
      " 33  females_allages_avg_vote   60903 non-null  float64\n",
      " 34  females_allages_votes      60903 non-null  float64\n",
      " 35  females_0age_avg_vote      11509 non-null  float64\n",
      " 36  females_0age_votes         11509 non-null  float64\n",
      " 37  females_18age_avg_vote     57184 non-null  float64\n",
      " 38  females_18age_votes        57184 non-null  float64\n",
      " 39  females_30age_avg_vote     60319 non-null  float64\n",
      " 40  females_30age_votes        60319 non-null  float64\n",
      " 41  females_45age_avg_vote     59052 non-null  float64\n",
      " 42  females_45age_votes        59052 non-null  float64\n",
      " 43  top1000_voters_rating      60510 non-null  float64\n",
      " 44  top1000_voters_votes       60510 non-null  float64\n",
      " 45  us_voters_rating           60783 non-null  float64\n",
      " 46  us_voters_votes            60783 non-null  float64\n",
      " 47  non_us_voters_rating       60950 non-null  float64\n",
      " 48  non_us_voters_votes        60950 non-null  float64\n",
      "dtypes: float64(37), int64(11), object(1)\n",
      "memory usage: 22.8+ MB\n"
     ]
    }
   ],
   "source": [
    "r_data.info()"
   ]
  },
  {
   "cell_type": "markdown",
   "metadata": {},
   "source": [
    "## NETFLIX Data Set"
   ]
  },
  {
   "cell_type": "code",
   "execution_count": 390,
   "metadata": {},
   "outputs": [
    {
     "data": {
      "text/html": [
       "<div>\n",
       "<style scoped>\n",
       "    .dataframe tbody tr th:only-of-type {\n",
       "        vertical-align: middle;\n",
       "    }\n",
       "\n",
       "    .dataframe tbody tr th {\n",
       "        vertical-align: top;\n",
       "    }\n",
       "\n",
       "    .dataframe thead th {\n",
       "        text-align: right;\n",
       "    }\n",
       "</style>\n",
       "<table border=\"1\" class=\"dataframe\">\n",
       "  <thead>\n",
       "    <tr style=\"text-align: right;\">\n",
       "      <th></th>\n",
       "      <th>show_id</th>\n",
       "      <th>type</th>\n",
       "      <th>title</th>\n",
       "      <th>director</th>\n",
       "      <th>cast</th>\n",
       "      <th>country</th>\n",
       "      <th>date_added</th>\n",
       "      <th>release_year</th>\n",
       "      <th>rating</th>\n",
       "      <th>duration</th>\n",
       "      <th>listed_in</th>\n",
       "      <th>description</th>\n",
       "    </tr>\n",
       "  </thead>\n",
       "  <tbody>\n",
       "    <tr>\n",
       "      <th>0</th>\n",
       "      <td>81088285</td>\n",
       "      <td>Movie</td>\n",
       "      <td>The Mayo Clinic</td>\n",
       "      <td>Ken Burns, Christopher Loren Ewers, Erik Ewers</td>\n",
       "      <td>Peter Coyote</td>\n",
       "      <td>United States</td>\n",
       "      <td>April 19, 2019</td>\n",
       "      <td>2018</td>\n",
       "      <td>TV-14</td>\n",
       "      <td>116 min</td>\n",
       "      <td>Documentaries</td>\n",
       "      <td>A look at how a world-renowned medical institu...</td>\n",
       "    </tr>\n",
       "    <tr>\n",
       "      <th>1</th>\n",
       "      <td>81077597</td>\n",
       "      <td>Movie</td>\n",
       "      <td>I Am</td>\n",
       "      <td>Onir</td>\n",
       "      <td>Juhi Chawla, Rahul Bose, Nandita Das, Sanjay S...</td>\n",
       "      <td>India, Japan</td>\n",
       "      <td>March 4, 2019</td>\n",
       "      <td>2010</td>\n",
       "      <td>TV-MA</td>\n",
       "      <td>106 min</td>\n",
       "      <td>Dramas, Independent Movies, International Movies</td>\n",
       "      <td>Four individuals in modern India grapple with ...</td>\n",
       "    </tr>\n",
       "    <tr>\n",
       "      <th>2</th>\n",
       "      <td>1150871</td>\n",
       "      <td>Movie</td>\n",
       "      <td>Love Jones</td>\n",
       "      <td>Theodore Witcher</td>\n",
       "      <td>Larenz Tate, Nia Long, Isaiah Washington, Lisa...</td>\n",
       "      <td>United States</td>\n",
       "      <td>November 1, 2019</td>\n",
       "      <td>1997</td>\n",
       "      <td>R</td>\n",
       "      <td>109 min</td>\n",
       "      <td>Comedies, Dramas, Independent Movies</td>\n",
       "      <td>In this urban romantic comedy set in Chicago, ...</td>\n",
       "    </tr>\n",
       "    <tr>\n",
       "      <th>3</th>\n",
       "      <td>20077944</td>\n",
       "      <td>Movie</td>\n",
       "      <td>Ghayal</td>\n",
       "      <td>Rajkumar Santoshi</td>\n",
       "      <td>Sunny Deol, Meenakshi Sheshadri, Amrish Puri, ...</td>\n",
       "      <td>India</td>\n",
       "      <td>December 31, 2019</td>\n",
       "      <td>1990</td>\n",
       "      <td>TV-14</td>\n",
       "      <td>163 min</td>\n",
       "      <td>Action &amp; Adventure, Dramas, International Movies</td>\n",
       "      <td>Framed for his older brother's murder, a boxer...</td>\n",
       "    </tr>\n",
       "    <tr>\n",
       "      <th>4</th>\n",
       "      <td>80223779</td>\n",
       "      <td>Movie</td>\n",
       "      <td>Marriage Story</td>\n",
       "      <td>Noah Baumbach</td>\n",
       "      <td>Scarlett Johansson, Adam Driver, Laura Dern, A...</td>\n",
       "      <td>United States, United Kingdom</td>\n",
       "      <td>December 6, 2019</td>\n",
       "      <td>2019</td>\n",
       "      <td>R</td>\n",
       "      <td>137 min</td>\n",
       "      <td>Dramas</td>\n",
       "      <td>Academy Award-nominated filmmaker Noah Baumbac...</td>\n",
       "    </tr>\n",
       "  </tbody>\n",
       "</table>\n",
       "</div>"
      ],
      "text/plain": [
       "    show_id   type            title  \\\n",
       "0  81088285  Movie  The Mayo Clinic   \n",
       "1  81077597  Movie             I Am   \n",
       "2   1150871  Movie       Love Jones   \n",
       "3  20077944  Movie           Ghayal   \n",
       "4  80223779  Movie   Marriage Story   \n",
       "\n",
       "                                         director  \\\n",
       "0  Ken Burns, Christopher Loren Ewers, Erik Ewers   \n",
       "1                                            Onir   \n",
       "2                                Theodore Witcher   \n",
       "3                               Rajkumar Santoshi   \n",
       "4                                   Noah Baumbach   \n",
       "\n",
       "                                                cast  \\\n",
       "0                                       Peter Coyote   \n",
       "1  Juhi Chawla, Rahul Bose, Nandita Das, Sanjay S...   \n",
       "2  Larenz Tate, Nia Long, Isaiah Washington, Lisa...   \n",
       "3  Sunny Deol, Meenakshi Sheshadri, Amrish Puri, ...   \n",
       "4  Scarlett Johansson, Adam Driver, Laura Dern, A...   \n",
       "\n",
       "                         country         date_added  release_year rating  \\\n",
       "0                  United States     April 19, 2019          2018  TV-14   \n",
       "1                   India, Japan      March 4, 2019          2010  TV-MA   \n",
       "2                  United States   November 1, 2019          1997      R   \n",
       "3                          India  December 31, 2019          1990  TV-14   \n",
       "4  United States, United Kingdom   December 6, 2019          2019      R   \n",
       "\n",
       "  duration                                         listed_in  \\\n",
       "0  116 min                                     Documentaries   \n",
       "1  106 min  Dramas, Independent Movies, International Movies   \n",
       "2  109 min              Comedies, Dramas, Independent Movies   \n",
       "3  163 min  Action & Adventure, Dramas, International Movies   \n",
       "4  137 min                                            Dramas   \n",
       "\n",
       "                                         description  \n",
       "0  A look at how a world-renowned medical institu...  \n",
       "1  Four individuals in modern India grapple with ...  \n",
       "2  In this urban romantic comedy set in Chicago, ...  \n",
       "3  Framed for his older brother's murder, a boxer...  \n",
       "4  Academy Award-nominated filmmaker Noah Baumbac...  "
      ]
     },
     "execution_count": 390,
     "metadata": {},
     "output_type": "execute_result"
    }
   ],
   "source": [
    "#import the Netflix data\n",
    "nf_data = pd.read_csv(\"NETFLIX TITLES.csv\")\n",
    "nf_data.head()"
   ]
  },
  {
   "cell_type": "code",
   "execution_count": 391,
   "metadata": {},
   "outputs": [
    {
     "data": {
      "text/plain": [
       "show_id            0\n",
       "type               0\n",
       "title              0\n",
       "director        1443\n",
       "cast             439\n",
       "country          349\n",
       "date_added         6\n",
       "release_year       0\n",
       "rating             8\n",
       "duration           0\n",
       "listed_in          0\n",
       "description        0\n",
       "dtype: int64"
      ]
     },
     "execution_count": 391,
     "metadata": {},
     "output_type": "execute_result"
    }
   ],
   "source": [
    "nf_data.isnull().sum()"
   ]
  },
  {
   "cell_type": "code",
   "execution_count": 392,
   "metadata": {},
   "outputs": [
    {
     "data": {
      "text/plain": [
       "2245"
      ]
     },
     "execution_count": 392,
     "metadata": {},
     "output_type": "execute_result"
    }
   ],
   "source": [
    "nf_data.isnull().sum().sum()"
   ]
  },
  {
   "cell_type": "code",
   "execution_count": 393,
   "metadata": {},
   "outputs": [
    {
     "data": {
      "text/plain": [
       "show_id          int64\n",
       "type            object\n",
       "title           object\n",
       "director        object\n",
       "cast            object\n",
       "country         object\n",
       "date_added      object\n",
       "release_year     int64\n",
       "rating          object\n",
       "duration        object\n",
       "listed_in       object\n",
       "description     object\n",
       "dtype: object"
      ]
     },
     "execution_count": 393,
     "metadata": {},
     "output_type": "execute_result"
    }
   ],
   "source": [
    "nf_data.dtypes"
   ]
  },
  {
   "cell_type": "code",
   "execution_count": 394,
   "metadata": {},
   "outputs": [
    {
     "data": {
      "text/plain": [
       "(4675, 12)"
      ]
     },
     "execution_count": 394,
     "metadata": {},
     "output_type": "execute_result"
    }
   ],
   "source": [
    "nf_data.shape"
   ]
  },
  {
   "cell_type": "code",
   "execution_count": 395,
   "metadata": {},
   "outputs": [
    {
     "name": "stdout",
     "output_type": "stream",
     "text": [
      "<class 'pandas.core.frame.DataFrame'>\n",
      "RangeIndex: 4675 entries, 0 to 4674\n",
      "Data columns (total 12 columns):\n",
      " #   Column        Non-Null Count  Dtype \n",
      "---  ------        --------------  ----- \n",
      " 0   show_id       4675 non-null   int64 \n",
      " 1   type          4675 non-null   object\n",
      " 2   title         4675 non-null   object\n",
      " 3   director      3232 non-null   object\n",
      " 4   cast          4236 non-null   object\n",
      " 5   country       4326 non-null   object\n",
      " 6   date_added    4669 non-null   object\n",
      " 7   release_year  4675 non-null   int64 \n",
      " 8   rating        4667 non-null   object\n",
      " 9   duration      4675 non-null   object\n",
      " 10  listed_in     4675 non-null   object\n",
      " 11  description   4675 non-null   object\n",
      "dtypes: int64(2), object(10)\n",
      "memory usage: 438.4+ KB\n"
     ]
    }
   ],
   "source": [
    "nf_data.info()"
   ]
  },
  {
   "cell_type": "code",
   "execution_count": 396,
   "metadata": {},
   "outputs": [],
   "source": [
    "nf_data.director.fillna(\"No Director\", inplace=True)\n",
    "nf_data.cast.fillna(\"No Cast\", inplace=True)\n",
    "nf_data.country.fillna(\"Country Unavailable\", inplace=True) # here we fill the nan values with relavant text for further analysis\n",
    "nf_data.dropna(subset=[\"date_added\", \"rating\"], inplace=True) # here we drop the rows having no rating & date"
   ]
  },
  {
   "cell_type": "code",
   "execution_count": 397,
   "metadata": {},
   "outputs": [
    {
     "data": {
      "text/plain": [
       "show_id         0\n",
       "type            0\n",
       "title           0\n",
       "director        0\n",
       "cast            0\n",
       "country         0\n",
       "date_added      0\n",
       "release_year    0\n",
       "rating          0\n",
       "duration        0\n",
       "listed_in       0\n",
       "description     0\n",
       "dtype: int64"
      ]
     },
     "execution_count": 397,
     "metadata": {},
     "output_type": "execute_result"
    }
   ],
   "source": [
    "nf_data.isnull().sum()"
   ]
  },
  {
   "cell_type": "markdown",
   "metadata": {},
   "source": [
    "__There are no null values in the data set__"
   ]
  },
  {
   "cell_type": "code",
   "execution_count": 398,
   "metadata": {},
   "outputs": [
    {
     "data": {
      "text/plain": [
       "(4662, 12)"
      ]
     },
     "execution_count": 398,
     "metadata": {},
     "output_type": "execute_result"
    }
   ],
   "source": [
    "nf_data.shape"
   ]
  },
  {
   "cell_type": "code",
   "execution_count": 399,
   "metadata": {},
   "outputs": [],
   "source": [
    "import matplotlib.pyplot as plt\n",
    "import seaborn as sns"
   ]
  },
  {
   "cell_type": "markdown",
   "metadata": {},
   "source": [
    "__Now Filtering the data with respect to countries since, single column/movie has multiple countries against each instance__"
   ]
  },
  {
   "cell_type": "code",
   "execution_count": 400,
   "metadata": {},
   "outputs": [
    {
     "data": {
      "text/html": [
       "<div>\n",
       "<style scoped>\n",
       "    .dataframe tbody tr th:only-of-type {\n",
       "        vertical-align: middle;\n",
       "    }\n",
       "\n",
       "    .dataframe tbody tr th {\n",
       "        vertical-align: top;\n",
       "    }\n",
       "\n",
       "    .dataframe thead th {\n",
       "        text-align: right;\n",
       "    }\n",
       "</style>\n",
       "<table border=\"1\" class=\"dataframe\">\n",
       "  <thead>\n",
       "    <tr style=\"text-align: right;\">\n",
       "      <th></th>\n",
       "      <th>0</th>\n",
       "    </tr>\n",
       "    <tr>\n",
       "      <th>title</th>\n",
       "      <th></th>\n",
       "    </tr>\n",
       "  </thead>\n",
       "  <tbody>\n",
       "    <tr>\n",
       "      <th>The Mayo Clinic</th>\n",
       "      <td>United States</td>\n",
       "    </tr>\n",
       "    <tr>\n",
       "      <th>I Am</th>\n",
       "      <td>India</td>\n",
       "    </tr>\n",
       "    <tr>\n",
       "      <th>I Am</th>\n",
       "      <td>Japan</td>\n",
       "    </tr>\n",
       "    <tr>\n",
       "      <th>Love Jones</th>\n",
       "      <td>United States</td>\n",
       "    </tr>\n",
       "    <tr>\n",
       "      <th>Ghayal</th>\n",
       "      <td>India</td>\n",
       "    </tr>\n",
       "    <tr>\n",
       "      <th>...</th>\n",
       "      <td>...</td>\n",
       "    </tr>\n",
       "    <tr>\n",
       "      <th>One Last Shot</th>\n",
       "      <td>Canada</td>\n",
       "    </tr>\n",
       "    <tr>\n",
       "      <th>The Blue Umbrella</th>\n",
       "      <td>India</td>\n",
       "    </tr>\n",
       "    <tr>\n",
       "      <th>The Force</th>\n",
       "      <td>United States</td>\n",
       "    </tr>\n",
       "    <tr>\n",
       "      <th>Thackeray</th>\n",
       "      <td>India</td>\n",
       "    </tr>\n",
       "    <tr>\n",
       "      <th>Running for Grace</th>\n",
       "      <td>United States</td>\n",
       "    </tr>\n",
       "  </tbody>\n",
       "</table>\n",
       "<p>5392 rows × 1 columns</p>\n",
       "</div>"
      ],
      "text/plain": [
       "                               0\n",
       "title                           \n",
       "The Mayo Clinic    United States\n",
       "I Am                       India\n",
       "I Am                       Japan\n",
       "Love Jones         United States\n",
       "Ghayal                     India\n",
       "...                          ...\n",
       "One Last Shot             Canada\n",
       "The Blue Umbrella          India\n",
       "The Force          United States\n",
       "Thackeray                  India\n",
       "Running for Grace  United States\n",
       "\n",
       "[5392 rows x 1 columns]"
      ]
     },
     "execution_count": 400,
     "metadata": {},
     "output_type": "execute_result"
    }
   ],
   "source": [
    "# resetting the index to the 'title' column & splitting the countries column \n",
    "filtered_countries = nf_data.set_index('title').country.str.split(',', expand=True).stack().reset_index(level=1, drop=True);\n",
    "\n",
    "filtered_countries = filtered_countries[filtered_countries != 'Country Unavailable']\n",
    "\n",
    "pd.DataFrame(filtered_countries)"
   ]
  },
  {
   "cell_type": "code",
   "execution_count": 401,
   "metadata": {},
   "outputs": [
    {
     "data": {
      "image/png": "[encoded data removed]",
      "text/plain": [
       "<Figure size 936x504 with 1 Axes>"
      ]
     },
     "metadata": {
      "needs_background": "light"
     },
     "output_type": "display_data"
    }
   ],
   "source": [
    "plt.figure(figsize=(13,7))\n",
    "g = sns.countplot(y = filtered_countries, order=filtered_countries.value_counts().index[:5])\n",
    "plt.title('Top 5 Countries Contributor on Netflix')\n",
    "plt.xlabel('Count')\n",
    "plt.ylabel('Countries')\n",
    "plt.show()"
   ]
  },
  {
   "cell_type": "code",
   "execution_count": 402,
   "metadata": {},
   "outputs": [
    {
     "data": {
      "text/html": [
       "<div>\n",
       "<style scoped>\n",
       "    .dataframe tbody tr th:only-of-type {\n",
       "        vertical-align: middle;\n",
       "    }\n",
       "\n",
       "    .dataframe tbody tr th {\n",
       "        vertical-align: top;\n",
       "    }\n",
       "\n",
       "    .dataframe thead th {\n",
       "        text-align: right;\n",
       "    }\n",
       "</style>\n",
       "<table border=\"1\" class=\"dataframe\">\n",
       "  <thead>\n",
       "    <tr style=\"text-align: right;\">\n",
       "      <th></th>\n",
       "      <th>show_id</th>\n",
       "      <th>type</th>\n",
       "      <th>title</th>\n",
       "      <th>director</th>\n",
       "      <th>cast</th>\n",
       "      <th>country</th>\n",
       "      <th>date_added</th>\n",
       "      <th>release_year</th>\n",
       "      <th>rating</th>\n",
       "      <th>duration</th>\n",
       "      <th>listed_in</th>\n",
       "      <th>description</th>\n",
       "    </tr>\n",
       "  </thead>\n",
       "  <tbody>\n",
       "    <tr>\n",
       "      <th>0</th>\n",
       "      <td>81088285</td>\n",
       "      <td>Movie</td>\n",
       "      <td>The Mayo Clinic</td>\n",
       "      <td>Ken Burns, Christopher Loren Ewers, Erik Ewers</td>\n",
       "      <td>Peter Coyote</td>\n",
       "      <td>United States</td>\n",
       "      <td>April 19, 2019</td>\n",
       "      <td>2018</td>\n",
       "      <td>TV-14</td>\n",
       "      <td>116 min</td>\n",
       "      <td>Documentaries</td>\n",
       "      <td>A look at how a world-renowned medical institu...</td>\n",
       "    </tr>\n",
       "    <tr>\n",
       "      <th>1</th>\n",
       "      <td>81077597</td>\n",
       "      <td>Movie</td>\n",
       "      <td>I Am</td>\n",
       "      <td>Onir</td>\n",
       "      <td>Juhi Chawla, Rahul Bose, Nandita Das, Sanjay S...</td>\n",
       "      <td>India, Japan</td>\n",
       "      <td>March 4, 2019</td>\n",
       "      <td>2010</td>\n",
       "      <td>TV-MA</td>\n",
       "      <td>106 min</td>\n",
       "      <td>Dramas, Independent Movies, International Movies</td>\n",
       "      <td>Four individuals in modern India grapple with ...</td>\n",
       "    </tr>\n",
       "  </tbody>\n",
       "</table>\n",
       "</div>"
      ],
      "text/plain": [
       "    show_id   type            title  \\\n",
       "0  81088285  Movie  The Mayo Clinic   \n",
       "1  81077597  Movie             I Am   \n",
       "\n",
       "                                         director  \\\n",
       "0  Ken Burns, Christopher Loren Ewers, Erik Ewers   \n",
       "1                                            Onir   \n",
       "\n",
       "                                                cast        country  \\\n",
       "0                                       Peter Coyote  United States   \n",
       "1  Juhi Chawla, Rahul Bose, Nandita Das, Sanjay S...   India, Japan   \n",
       "\n",
       "       date_added  release_year rating duration  \\\n",
       "0  April 19, 2019          2018  TV-14  116 min   \n",
       "1   March 4, 2019          2010  TV-MA  106 min   \n",
       "\n",
       "                                          listed_in  \\\n",
       "0                                     Documentaries   \n",
       "1  Dramas, Independent Movies, International Movies   \n",
       "\n",
       "                                         description  \n",
       "0  A look at how a world-renowned medical institu...  \n",
       "1  Four individuals in modern India grapple with ...  "
      ]
     },
     "execution_count": 402,
     "metadata": {},
     "output_type": "execute_result"
    }
   ],
   "source": [
    "nf_data.head(2)"
   ]
  },
  {
   "cell_type": "markdown",
   "metadata": {},
   "source": [
    "### Splitting the date time"
   ]
  },
  {
   "cell_type": "code",
   "execution_count": 403,
   "metadata": {},
   "outputs": [
    {
     "data": {
      "text/plain": [
       "' April 1, 2014'"
      ]
     },
     "execution_count": 403,
     "metadata": {},
     "output_type": "execute_result"
    }
   ],
   "source": [
    "min(nf_data['date_added'])"
   ]
  },
  {
   "cell_type": "code",
   "execution_count": 404,
   "metadata": {},
   "outputs": [
    {
     "data": {
      "text/plain": [
       "'September 9, 2019'"
      ]
     },
     "execution_count": 404,
     "metadata": {},
     "output_type": "execute_result"
    }
   ],
   "source": [
    "max(nf_data['date_added'])"
   ]
  },
  {
   "cell_type": "code",
   "execution_count": 405,
   "metadata": {},
   "outputs": [],
   "source": [
    "nf_data['date_added'] = pd.to_datetime(nf_data['date_added'], infer_datetime_format=True)"
   ]
  },
  {
   "cell_type": "code",
   "execution_count": 406,
   "metadata": {},
   "outputs": [
    {
     "data": {
      "text/plain": [
       "0      2019-04-19\n",
       "1      2019-03-04\n",
       "2      2019-11-01\n",
       "3      2019-12-31\n",
       "4      2019-12-06\n",
       "          ...    \n",
       "4670   2018-08-02\n",
       "4671   2018-01-29\n",
       "4672   2019-05-25\n",
       "4673   2019-06-19\n",
       "4674   2017-06-01\n",
       "Name: date_added, Length: 4662, dtype: datetime64[ns]"
      ]
     },
     "execution_count": 406,
     "metadata": {},
     "output_type": "execute_result"
    }
   ],
   "source": [
    "nf_data['date_added']"
   ]
  },
  {
   "cell_type": "code",
   "execution_count": 407,
   "metadata": {},
   "outputs": [
    {
     "data": {
      "text/html": [
       "<div>\n",
       "<style scoped>\n",
       "    .dataframe tbody tr th:only-of-type {\n",
       "        vertical-align: middle;\n",
       "    }\n",
       "\n",
       "    .dataframe tbody tr th {\n",
       "        vertical-align: top;\n",
       "    }\n",
       "\n",
       "    .dataframe thead th {\n",
       "        text-align: right;\n",
       "    }\n",
       "</style>\n",
       "<table border=\"1\" class=\"dataframe\">\n",
       "  <thead>\n",
       "    <tr style=\"text-align: right;\">\n",
       "      <th></th>\n",
       "      <th>show_id</th>\n",
       "      <th>type</th>\n",
       "      <th>title</th>\n",
       "      <th>director</th>\n",
       "      <th>cast</th>\n",
       "      <th>country</th>\n",
       "      <th>date_added</th>\n",
       "      <th>release_year</th>\n",
       "      <th>rating</th>\n",
       "      <th>duration</th>\n",
       "      <th>listed_in</th>\n",
       "      <th>description</th>\n",
       "      <th>day</th>\n",
       "      <th>month</th>\n",
       "      <th>year</th>\n",
       "    </tr>\n",
       "  </thead>\n",
       "  <tbody>\n",
       "    <tr>\n",
       "      <th>0</th>\n",
       "      <td>81088285</td>\n",
       "      <td>Movie</td>\n",
       "      <td>The Mayo Clinic</td>\n",
       "      <td>Ken Burns, Christopher Loren Ewers, Erik Ewers</td>\n",
       "      <td>Peter Coyote</td>\n",
       "      <td>United States</td>\n",
       "      <td>2019-04-19</td>\n",
       "      <td>2018</td>\n",
       "      <td>TV-14</td>\n",
       "      <td>116 min</td>\n",
       "      <td>Documentaries</td>\n",
       "      <td>A look at how a world-renowned medical institu...</td>\n",
       "      <td>19</td>\n",
       "      <td>4</td>\n",
       "      <td>2019</td>\n",
       "    </tr>\n",
       "    <tr>\n",
       "      <th>1</th>\n",
       "      <td>81077597</td>\n",
       "      <td>Movie</td>\n",
       "      <td>I Am</td>\n",
       "      <td>Onir</td>\n",
       "      <td>Juhi Chawla, Rahul Bose, Nandita Das, Sanjay S...</td>\n",
       "      <td>India, Japan</td>\n",
       "      <td>2019-03-04</td>\n",
       "      <td>2010</td>\n",
       "      <td>TV-MA</td>\n",
       "      <td>106 min</td>\n",
       "      <td>Dramas, Independent Movies, International Movies</td>\n",
       "      <td>Four individuals in modern India grapple with ...</td>\n",
       "      <td>4</td>\n",
       "      <td>3</td>\n",
       "      <td>2019</td>\n",
       "    </tr>\n",
       "  </tbody>\n",
       "</table>\n",
       "</div>"
      ],
      "text/plain": [
       "    show_id   type            title  \\\n",
       "0  81088285  Movie  The Mayo Clinic   \n",
       "1  81077597  Movie             I Am   \n",
       "\n",
       "                                         director  \\\n",
       "0  Ken Burns, Christopher Loren Ewers, Erik Ewers   \n",
       "1                                            Onir   \n",
       "\n",
       "                                                cast        country  \\\n",
       "0                                       Peter Coyote  United States   \n",
       "1  Juhi Chawla, Rahul Bose, Nandita Das, Sanjay S...   India, Japan   \n",
       "\n",
       "  date_added  release_year rating duration  \\\n",
       "0 2019-04-19          2018  TV-14  116 min   \n",
       "1 2019-03-04          2010  TV-MA  106 min   \n",
       "\n",
       "                                          listed_in  \\\n",
       "0                                     Documentaries   \n",
       "1  Dramas, Independent Movies, International Movies   \n",
       "\n",
       "                                         description  day  month  year  \n",
       "0  A look at how a world-renowned medical institu...   19      4  2019  \n",
       "1  Four individuals in modern India grapple with ...    4      3  2019  "
      ]
     },
     "execution_count": 407,
     "metadata": {},
     "output_type": "execute_result"
    }
   ],
   "source": [
    "nf_data[\"day\"] = nf_data['date_added'].map(lambda x: x.day)\n",
    "nf_data[\"month\"] = nf_data['date_added'].map(lambda x: x.month)\n",
    "nf_data[\"year\"] = nf_data['date_added'].map(lambda x: x.year)\n",
    "\n",
    "nf_data.head(2)"
   ]
  },
  {
   "cell_type": "code",
   "execution_count": 408,
   "metadata": {},
   "outputs": [],
   "source": [
    "nf_data['duration']=nf_data['duration'].str.split(' ')"
   ]
  },
  {
   "cell_type": "code",
   "execution_count": 409,
   "metadata": {},
   "outputs": [
    {
     "data": {
      "text/html": [
       "<div>\n",
       "<style scoped>\n",
       "    .dataframe tbody tr th:only-of-type {\n",
       "        vertical-align: middle;\n",
       "    }\n",
       "\n",
       "    .dataframe tbody tr th {\n",
       "        vertical-align: top;\n",
       "    }\n",
       "\n",
       "    .dataframe thead th {\n",
       "        text-align: right;\n",
       "    }\n",
       "</style>\n",
       "<table border=\"1\" class=\"dataframe\">\n",
       "  <thead>\n",
       "    <tr style=\"text-align: right;\">\n",
       "      <th></th>\n",
       "      <th>duration</th>\n",
       "    </tr>\n",
       "    <tr>\n",
       "      <th>month</th>\n",
       "      <th></th>\n",
       "    </tr>\n",
       "  </thead>\n",
       "  <tbody>\n",
       "    <tr>\n",
       "      <th>1</th>\n",
       "      <td>[96, min, 87, min, 117, min, 46, min, 89, min,...</td>\n",
       "    </tr>\n",
       "    <tr>\n",
       "      <th>2</th>\n",
       "      <td>[150, min, 150, min, 2, Seasons, 71, min, 89, ...</td>\n",
       "    </tr>\n",
       "    <tr>\n",
       "      <th>3</th>\n",
       "      <td>[106, min, 62, min, 155, min, 123, min, 1, Sea...</td>\n",
       "    </tr>\n",
       "    <tr>\n",
       "      <th>4</th>\n",
       "      <td>[116, min, 54, min, 94, min, 104, min, 132, mi...</td>\n",
       "    </tr>\n",
       "    <tr>\n",
       "      <th>5</th>\n",
       "      <td>[4, Seasons, 83, min, 95, min, 71, min, 84, mi...</td>\n",
       "    </tr>\n",
       "    <tr>\n",
       "      <th>6</th>\n",
       "      <td>[2, Seasons, 5, Seasons, 3, Seasons, 1, Season...</td>\n",
       "    </tr>\n",
       "    <tr>\n",
       "      <th>7</th>\n",
       "      <td>[124, min, 69, min, 52, min, 1, Season, 2, Sea...</td>\n",
       "    </tr>\n",
       "    <tr>\n",
       "      <th>8</th>\n",
       "      <td>[1, Season, 7, Seasons, 94, min, 151, min, 1, ...</td>\n",
       "    </tr>\n",
       "    <tr>\n",
       "      <th>9</th>\n",
       "      <td>[88, min, 108, min, 108, min, 86, min, 97, min...</td>\n",
       "    </tr>\n",
       "    <tr>\n",
       "      <th>10</th>\n",
       "      <td>[118, min, 46, min, 44, min, 107, min, 100, mi...</td>\n",
       "    </tr>\n",
       "    <tr>\n",
       "      <th>11</th>\n",
       "      <td>[109, min, 93, min, 87, min, 92, min, 1, Seaso...</td>\n",
       "    </tr>\n",
       "    <tr>\n",
       "      <th>12</th>\n",
       "      <td>[163, min, 137, min, 102, min, 1, Season, 103,...</td>\n",
       "    </tr>\n",
       "  </tbody>\n",
       "</table>\n",
       "</div>"
      ],
      "text/plain": [
       "                                                duration\n",
       "month                                                   \n",
       "1      [96, min, 87, min, 117, min, 46, min, 89, min,...\n",
       "2      [150, min, 150, min, 2, Seasons, 71, min, 89, ...\n",
       "3      [106, min, 62, min, 155, min, 123, min, 1, Sea...\n",
       "4      [116, min, 54, min, 94, min, 104, min, 132, mi...\n",
       "5      [4, Seasons, 83, min, 95, min, 71, min, 84, mi...\n",
       "6      [2, Seasons, 5, Seasons, 3, Seasons, 1, Season...\n",
       "7      [124, min, 69, min, 52, min, 1, Season, 2, Sea...\n",
       "8      [1, Season, 7, Seasons, 94, min, 151, min, 1, ...\n",
       "9      [88, min, 108, min, 108, min, 86, min, 97, min...\n",
       "10     [118, min, 46, min, 44, min, 107, min, 100, mi...\n",
       "11     [109, min, 93, min, 87, min, 92, min, 1, Seaso...\n",
       "12     [163, min, 137, min, 102, min, 1, Season, 103,..."
      ]
     },
     "execution_count": 409,
     "metadata": {},
     "output_type": "execute_result"
    }
   ],
   "source": [
    "nf_data.groupby(nf_data['month']).agg({'duration': 'sum'})"
   ]
  },
  {
   "cell_type": "code",
   "execution_count": null,
   "metadata": {},
   "outputs": [],
   "source": []
  },
  {
   "cell_type": "code",
   "execution_count": null,
   "metadata": {},
   "outputs": [],
   "source": []
  },
  {
   "cell_type": "code",
   "execution_count": null,
   "metadata": {},
   "outputs": [],
   "source": []
  },
  {
   "cell_type": "markdown",
   "metadata": {},
   "source": [
    "### Combining IMDB_movies & IMDB_Ratings data & NETFLIX"
   ]
  },
  {
   "cell_type": "code",
   "execution_count": 159,
   "metadata": {},
   "outputs": [],
   "source": [
    "# m_data.columns = ['imdb_title_id','title','cast','crew']\n",
    "r_data = r_data.merge(m_data, on='imdb_title_id')"
   ]
  },
  {
   "cell_type": "code",
   "execution_count": 160,
   "metadata": {},
   "outputs": [
    {
     "data": {
      "text/plain": [
       "(4652, 70)"
      ]
     },
     "execution_count": 160,
     "metadata": {},
     "output_type": "execute_result"
    }
   ],
   "source": [
    "r_data.shape"
   ]
  },
  {
   "cell_type": "code",
   "execution_count": 164,
   "metadata": {},
   "outputs": [],
   "source": [
    "nf1_data = nf_data.merge(r_data, on='title')"
   ]
  },
  {
   "cell_type": "code",
   "execution_count": 165,
   "metadata": {},
   "outputs": [
    {
     "data": {
      "text/plain": [
       "(350, 81)"
      ]
     },
     "execution_count": 165,
     "metadata": {},
     "output_type": "execute_result"
    }
   ],
   "source": [
    "nf1_data.shape"
   ]
  },
  {
   "cell_type": "code",
   "execution_count": 167,
   "metadata": {},
   "outputs": [
    {
     "data": {
      "text/html": [
       "<div>\n",
       "<style scoped>\n",
       "    .dataframe tbody tr th:only-of-type {\n",
       "        vertical-align: middle;\n",
       "    }\n",
       "\n",
       "    .dataframe tbody tr th {\n",
       "        vertical-align: top;\n",
       "    }\n",
       "\n",
       "    .dataframe thead th {\n",
       "        text-align: right;\n",
       "    }\n",
       "</style>\n",
       "<table border=\"1\" class=\"dataframe\">\n",
       "  <thead>\n",
       "    <tr style=\"text-align: right;\">\n",
       "      <th></th>\n",
       "      <th>show_id</th>\n",
       "      <th>type</th>\n",
       "      <th>title</th>\n",
       "      <th>director_x</th>\n",
       "      <th>cast</th>\n",
       "      <th>country_x</th>\n",
       "      <th>date_added</th>\n",
       "      <th>release_year</th>\n",
       "      <th>rating</th>\n",
       "      <th>duration_x</th>\n",
       "      <th>...</th>\n",
       "      <th>actors</th>\n",
       "      <th>description_y</th>\n",
       "      <th>avg_vote</th>\n",
       "      <th>votes</th>\n",
       "      <th>budget</th>\n",
       "      <th>usa_gross_income</th>\n",
       "      <th>worlwide_gross_income</th>\n",
       "      <th>metascore</th>\n",
       "      <th>reviews_from_users</th>\n",
       "      <th>reviews_from_critics</th>\n",
       "    </tr>\n",
       "  </thead>\n",
       "  <tbody>\n",
       "    <tr>\n",
       "      <th>0</th>\n",
       "      <td>70298946</td>\n",
       "      <td>Movie</td>\n",
       "      <td>Camp X-Ray</td>\n",
       "      <td>Peter Sattler</td>\n",
       "      <td>Kristen Stewart, Peyman Moaadi, John Carroll L...</td>\n",
       "      <td>United States</td>\n",
       "      <td>January 14, 2017</td>\n",
       "      <td>2014</td>\n",
       "      <td>R</td>\n",
       "      <td>117 min</td>\n",
       "      <td>...</td>\n",
       "      <td>Nawal Bengholam, Payman Maadi, Lane Garrison, ...</td>\n",
       "      <td>A soldier assigned to Guantanamo Bay befriends...</td>\n",
       "      <td>6.9</td>\n",
       "      <td>37328</td>\n",
       "      <td>$1,000,000</td>\n",
       "      <td>$13,302</td>\n",
       "      <td>$79,624</td>\n",
       "      <td>54.0</td>\n",
       "      <td>90.0</td>\n",
       "      <td>100.0</td>\n",
       "    </tr>\n",
       "    <tr>\n",
       "      <th>1</th>\n",
       "      <td>70136074</td>\n",
       "      <td>Movie</td>\n",
       "      <td>The Last Exorcism</td>\n",
       "      <td>Daniel Stamm</td>\n",
       "      <td>Patrick Fabian, Ashley Bell, Iris Bahr, Louis ...</td>\n",
       "      <td>France, United States</td>\n",
       "      <td>September 1, 2019</td>\n",
       "      <td>2010</td>\n",
       "      <td>PG-13</td>\n",
       "      <td>88 min</td>\n",
       "      <td>...</td>\n",
       "      <td>Patrick Fabian, Ashley Bell, Iris Bahr, Louis ...</td>\n",
       "      <td>A troubled evangelical minister agrees to let ...</td>\n",
       "      <td>5.6</td>\n",
       "      <td>46494</td>\n",
       "      <td>$1,800,000</td>\n",
       "      <td>$41,034,350</td>\n",
       "      <td>$67,738,090</td>\n",
       "      <td>63.0</td>\n",
       "      <td>319.0</td>\n",
       "      <td>315.0</td>\n",
       "    </tr>\n",
       "    <tr>\n",
       "      <th>2</th>\n",
       "      <td>60000409</td>\n",
       "      <td>Movie</td>\n",
       "      <td>Snow Day</td>\n",
       "      <td>Chris Koch</td>\n",
       "      <td>Chris Elliott, Mark Webber, Jean Smart, Schuyl...</td>\n",
       "      <td>United States</td>\n",
       "      <td>January 1, 2020</td>\n",
       "      <td>2000</td>\n",
       "      <td>PG</td>\n",
       "      <td>89 min</td>\n",
       "      <td>...</td>\n",
       "      <td>Chris Elliott, Mark Webber, Jean Smart, Schuyl...</td>\n",
       "      <td>When a school in upstate New York is snowed in...</td>\n",
       "      <td>5.1</td>\n",
       "      <td>10861</td>\n",
       "      <td>$13,000,000</td>\n",
       "      <td>$60,020,107</td>\n",
       "      <td>$62,464,731</td>\n",
       "      <td>34.0</td>\n",
       "      <td>98.0</td>\n",
       "      <td>35.0</td>\n",
       "    </tr>\n",
       "    <tr>\n",
       "      <th>3</th>\n",
       "      <td>70120142</td>\n",
       "      <td>Movie</td>\n",
       "      <td>Get Him to the Greek</td>\n",
       "      <td>Nicholas Stoller</td>\n",
       "      <td>Jonah Hill, Russell Brand, Elisabeth Moss, Ros...</td>\n",
       "      <td>United States</td>\n",
       "      <td>January 16, 2020</td>\n",
       "      <td>2010</td>\n",
       "      <td>R</td>\n",
       "      <td>109 min</td>\n",
       "      <td>...</td>\n",
       "      <td>Russell Brand, Rose Byrne, Tyler McKinney, Zoe...</td>\n",
       "      <td>A record company intern is hired to accompany ...</td>\n",
       "      <td>6.4</td>\n",
       "      <td>163225</td>\n",
       "      <td>$40,000,000</td>\n",
       "      <td>$60,974,475</td>\n",
       "      <td>$91,261,479</td>\n",
       "      <td>65.0</td>\n",
       "      <td>209.0</td>\n",
       "      <td>215.0</td>\n",
       "    </tr>\n",
       "    <tr>\n",
       "      <th>4</th>\n",
       "      <td>70063017</td>\n",
       "      <td>Movie</td>\n",
       "      <td>Guru</td>\n",
       "      <td>Mani Ratnam</td>\n",
       "      <td>Abhishek Bachchan, Mithun Chakraborty, Aishwar...</td>\n",
       "      <td>India</td>\n",
       "      <td>March 1, 2018</td>\n",
       "      <td>2007</td>\n",
       "      <td>TV-14</td>\n",
       "      <td>155 min</td>\n",
       "      <td>...</td>\n",
       "      <td>Mithun Chakraborty, Abhishek Bachchan, Aishwar...</td>\n",
       "      <td>A villager, Gurukant Desai, arrives in Bombay ...</td>\n",
       "      <td>7.7</td>\n",
       "      <td>20420</td>\n",
       "      <td>INR 150000000</td>\n",
       "      <td>$2,096,000</td>\n",
       "      <td>$24,108,727</td>\n",
       "      <td>70.0</td>\n",
       "      <td>97.0</td>\n",
       "      <td>19.0</td>\n",
       "    </tr>\n",
       "  </tbody>\n",
       "</table>\n",
       "<p>5 rows × 81 columns</p>\n",
       "</div>"
      ],
      "text/plain": [
       "    show_id   type                 title        director_x  \\\n",
       "0  70298946  Movie            Camp X-Ray     Peter Sattler   \n",
       "1  70136074  Movie     The Last Exorcism      Daniel Stamm   \n",
       "2  60000409  Movie              Snow Day        Chris Koch   \n",
       "3  70120142  Movie  Get Him to the Greek  Nicholas Stoller   \n",
       "4  70063017  Movie                  Guru       Mani Ratnam   \n",
       "\n",
       "                                                cast              country_x  \\\n",
       "0  Kristen Stewart, Peyman Moaadi, John Carroll L...          United States   \n",
       "1  Patrick Fabian, Ashley Bell, Iris Bahr, Louis ...  France, United States   \n",
       "2  Chris Elliott, Mark Webber, Jean Smart, Schuyl...          United States   \n",
       "3  Jonah Hill, Russell Brand, Elisabeth Moss, Ros...          United States   \n",
       "4  Abhishek Bachchan, Mithun Chakraborty, Aishwar...                  India   \n",
       "\n",
       "          date_added  release_year rating duration_x  ...  \\\n",
       "0   January 14, 2017          2014      R    117 min  ...   \n",
       "1  September 1, 2019          2010  PG-13     88 min  ...   \n",
       "2    January 1, 2020          2000     PG     89 min  ...   \n",
       "3   January 16, 2020          2010      R    109 min  ...   \n",
       "4      March 1, 2018          2007  TV-14    155 min  ...   \n",
       "\n",
       "                                              actors  \\\n",
       "0  Nawal Bengholam, Payman Maadi, Lane Garrison, ...   \n",
       "1  Patrick Fabian, Ashley Bell, Iris Bahr, Louis ...   \n",
       "2  Chris Elliott, Mark Webber, Jean Smart, Schuyl...   \n",
       "3  Russell Brand, Rose Byrne, Tyler McKinney, Zoe...   \n",
       "4  Mithun Chakraborty, Abhishek Bachchan, Aishwar...   \n",
       "\n",
       "                                       description_y avg_vote   votes  \\\n",
       "0  A soldier assigned to Guantanamo Bay befriends...      6.9   37328   \n",
       "1  A troubled evangelical minister agrees to let ...      5.6   46494   \n",
       "2  When a school in upstate New York is snowed in...      5.1   10861   \n",
       "3  A record company intern is hired to accompany ...      6.4  163225   \n",
       "4  A villager, Gurukant Desai, arrives in Bombay ...      7.7   20420   \n",
       "\n",
       "          budget  usa_gross_income  worlwide_gross_income  metascore  \\\n",
       "0    $1,000,000           $13,302                $79,624        54.0   \n",
       "1    $1,800,000       $41,034,350            $67,738,090        63.0   \n",
       "2   $13,000,000       $60,020,107            $62,464,731        34.0   \n",
       "3   $40,000,000       $60,974,475            $91,261,479        65.0   \n",
       "4  INR 150000000       $2,096,000            $24,108,727        70.0   \n",
       "\n",
       "   reviews_from_users  reviews_from_critics  \n",
       "0                90.0                 100.0  \n",
       "1               319.0                 315.0  \n",
       "2                98.0                  35.0  \n",
       "3               209.0                 215.0  \n",
       "4                97.0                  19.0  \n",
       "\n",
       "[5 rows x 81 columns]"
      ]
     },
     "execution_count": 167,
     "metadata": {},
     "output_type": "execute_result"
    }
   ],
   "source": [
    "nf1_data.head()"
   ]
  },
  {
   "cell_type": "markdown",
   "metadata": {},
   "source": [
    "__Calculating the weighted rating for the data set__"
   ]
  },
  {
   "cell_type": "code",
   "execution_count": 181,
   "metadata": {},
   "outputs": [
    {
     "data": {
      "text/plain": [
       "332715.00000000035"
      ]
     },
     "execution_count": 181,
     "metadata": {},
     "output_type": "execute_result"
    }
   ],
   "source": [
    "m0 = nf1_data[\"votes\"].quantile(0.9) # 90% of the data is taken into consideraation\n",
    "m0 # Shows the value where the 90% of the data lies around"
   ]
  },
  {
   "cell_type": "code",
   "execution_count": 180,
   "metadata": {},
   "outputs": [
    {
     "data": {
      "text/plain": [
       "6.503142857142864"
      ]
     },
     "execution_count": 180,
     "metadata": {},
     "output_type": "execute_result"
    }
   ],
   "source": [
    "C0 = nf1_data[\"avg_vote\"].mean()  #average of the average vote across the list\n",
    "C0"
   ]
  },
  {
   "cell_type": "code",
   "execution_count": 182,
   "metadata": {},
   "outputs": [],
   "source": [
    "#qualified movies as per the m0 value\n",
    "nf1_data = nf1_data[nf1_data['votes']>m0]"
   ]
  },
  {
   "cell_type": "code",
   "execution_count": 183,
   "metadata": {},
   "outputs": [
    {
     "data": {
      "text/plain": [
       "(35, 81)"
      ]
     },
     "execution_count": 183,
     "metadata": {},
     "output_type": "execute_result"
    }
   ],
   "source": [
    "nf1_data.shape"
   ]
  },
  {
   "cell_type": "code",
   "execution_count": 186,
   "metadata": {},
   "outputs": [],
   "source": [
    "#Calculating the weighted rating\n",
    "def weighted_rating1(x,m0=m0,C0=C0): # m- average of the total vote_average\n",
    "    v = x['votes'] # Total number of votes\n",
    "    R = x['avg_vote'] # average votes\n",
    "    return (v/(v+m0)*R)+(m0/(m0+v)*C0) #C1 here is average vote after handling the missing values"
   ]
  },
  {
   "cell_type": "code",
   "execution_count": 187,
   "metadata": {},
   "outputs": [
    {
     "name": "stderr",
     "output_type": "stream",
     "text": [
      "C:\\Users\\GV62 7RD\\Anaconda3\\lib\\site-packages\\ipykernel_launcher.py:1: SettingWithCopyWarning: \n",
      "A value is trying to be set on a copy of a slice from a DataFrame.\n",
      "Try using .loc[row_indexer,col_indexer] = value instead\n",
      "\n",
      "See the caveats in the documentation: https://pandas.pydata.org/pandas-docs/stable/user_guide/indexing.html#returning-a-view-versus-a-copy\n",
      "  \"\"\"Entry point for launching an IPython kernel.\n"
     ]
    }
   ],
   "source": [
    "nf1_data['score'] = nf1_data.apply(weighted_rating1, axis=1)"
   ]
  },
  {
   "cell_type": "code",
   "execution_count": 189,
   "metadata": {},
   "outputs": [
    {
     "data": {
      "text/html": [
       "<div>\n",
       "<style scoped>\n",
       "    .dataframe tbody tr th:only-of-type {\n",
       "        vertical-align: middle;\n",
       "    }\n",
       "\n",
       "    .dataframe tbody tr th {\n",
       "        vertical-align: top;\n",
       "    }\n",
       "\n",
       "    .dataframe thead th {\n",
       "        text-align: right;\n",
       "    }\n",
       "</style>\n",
       "<table border=\"1\" class=\"dataframe\">\n",
       "  <thead>\n",
       "    <tr style=\"text-align: right;\">\n",
       "      <th></th>\n",
       "      <th>title</th>\n",
       "      <th>votes</th>\n",
       "      <th>avg_vote</th>\n",
       "      <th>score</th>\n",
       "    </tr>\n",
       "  </thead>\n",
       "  <tbody>\n",
       "    <tr>\n",
       "      <th>102</th>\n",
       "      <td>Inception</td>\n",
       "      <td>1892929</td>\n",
       "      <td>8.8</td>\n",
       "      <td>8.456639</td>\n",
       "    </tr>\n",
       "    <tr>\n",
       "      <th>326</th>\n",
       "      <td>Schindler's List</td>\n",
       "      <td>1120236</td>\n",
       "      <td>8.9</td>\n",
       "      <td>8.351137</td>\n",
       "    </tr>\n",
       "    <tr>\n",
       "      <th>177</th>\n",
       "      <td>American History X</td>\n",
       "      <td>973804</td>\n",
       "      <td>8.5</td>\n",
       "      <td>7.991485</td>\n",
       "    </tr>\n",
       "    <tr>\n",
       "      <th>194</th>\n",
       "      <td>V for Vendetta</td>\n",
       "      <td>971038</td>\n",
       "      <td>8.2</td>\n",
       "      <td>7.766966</td>\n",
       "    </tr>\n",
       "    <tr>\n",
       "      <th>123</th>\n",
       "      <td>Taxi Driver</td>\n",
       "      <td>661269</td>\n",
       "      <td>8.3</td>\n",
       "      <td>7.698540</td>\n",
       "    </tr>\n",
       "    <tr>\n",
       "      <th>344</th>\n",
       "      <td>Lock, Stock and Two Smoking Barrels</td>\n",
       "      <td>502631</td>\n",
       "      <td>8.2</td>\n",
       "      <td>7.524149</td>\n",
       "    </tr>\n",
       "    <tr>\n",
       "      <th>162</th>\n",
       "      <td>Monty Python and the Holy Grail</td>\n",
       "      <td>472150</td>\n",
       "      <td>8.2</td>\n",
       "      <td>7.498553</td>\n",
       "    </tr>\n",
       "    <tr>\n",
       "      <th>349</th>\n",
       "      <td>The King's Speech</td>\n",
       "      <td>604763</td>\n",
       "      <td>8.0</td>\n",
       "      <td>7.468759</td>\n",
       "    </tr>\n",
       "    <tr>\n",
       "      <th>182</th>\n",
       "      <td>Warrior</td>\n",
       "      <td>411155</td>\n",
       "      <td>8.2</td>\n",
       "      <td>7.441037</td>\n",
       "    </tr>\n",
       "    <tr>\n",
       "      <th>92</th>\n",
       "      <td>District 9</td>\n",
       "      <td>613333</td>\n",
       "      <td>7.9</td>\n",
       "      <td>7.408740</td>\n",
       "    </tr>\n",
       "  </tbody>\n",
       "</table>\n",
       "</div>"
      ],
      "text/plain": [
       "                                   title    votes  avg_vote     score\n",
       "102                            Inception  1892929       8.8  8.456639\n",
       "326                     Schindler's List  1120236       8.9  8.351137\n",
       "177                   American History X   973804       8.5  7.991485\n",
       "194                       V for Vendetta   971038       8.2  7.766966\n",
       "123                          Taxi Driver   661269       8.3  7.698540\n",
       "344  Lock, Stock and Two Smoking Barrels   502631       8.2  7.524149\n",
       "162      Monty Python and the Holy Grail   472150       8.2  7.498553\n",
       "349                    The King's Speech   604763       8.0  7.468759\n",
       "182                              Warrior   411155       8.2  7.441037\n",
       "92                            District 9   613333       7.9  7.408740"
      ]
     },
     "execution_count": 189,
     "metadata": {},
     "output_type": "execute_result"
    }
   ],
   "source": [
    "nf1_data = nf1_data.sort_values('score', ascending=False)\n",
    "\n",
    "#Print the top 15 movies\n",
    "nf1_data[['title', 'votes', 'avg_vote', 'score']].head(10)"
   ]
  },
  {
   "cell_type": "code",
   "execution_count": 196,
   "metadata": {},
   "outputs": [
    {
     "data": {
      "text/plain": [
       "Text(0.5, 1.0, 'Most voted Movies')"
      ]
     },
     "execution_count": 196,
     "metadata": {},
     "output_type": "execute_result"
    },
    {
     "data": {
      "image/png": "[encoded data removed]",
      "text/plain": [
       "<Figure size 864x288 with 1 Axes>"
      ]
     },
     "metadata": {
      "needs_background": "light"
     },
     "output_type": "display_data"
    }
   ],
   "source": [
    "d0 = nf1_data.sort_values('votes',ascending=False)\n",
    "plt.figure(figsize=(12,4))\n",
    "\n",
    "plt.barh(d0['title'].head(3),d0['votes'].head(3),align='center')\n",
    "plt.gca().invert_yaxis()\n",
    "plt.xlabel('Votes')\n",
    "plt.title(\"Most voted Movies\")"
   ]
  },
  {
   "cell_type": "markdown",
   "metadata": {},
   "source": [
    "### Therefore the Top rated movie that has ratings on imdb and is available on netflix are \n",
    "\n",
    "- > 1.  Inception\n",
    "\n",
    "\n",
    "- > 2.  Schindler's List\n",
    "\n",
    "- > 3.  American History X\t"
   ]
  },
  {
   "cell_type": "code",
   "execution_count": null,
   "metadata": {},
   "outputs": [],
   "source": []
  },
  {
   "cell_type": "code",
   "execution_count": null,
   "metadata": {},
   "outputs": [],
   "source": []
  },
  {
   "cell_type": "markdown",
   "metadata": {},
   "source": [
    "# Building a Content Based Recommender System:\n",
    "\n",
    "### Using NETFLIX TITLES Data-set:\n",
    "\n",
    "- First here the recommendation is based on the average user rating, meaning what most of the audience likes is what is recommended in general.\n"
   ]
  },
  {
   "cell_type": "code",
   "execution_count": 72,
   "metadata": {},
   "outputs": [],
   "source": [
    "import pandas as pd\n",
    "import numpy as np\n",
    "import matplotlib.pyplot as plt\n",
    "import seaborn as sns\n",
    "from numpy import nan"
   ]
  },
  {
   "cell_type": "code",
   "execution_count": 73,
   "metadata": {},
   "outputs": [
    {
     "data": {
      "text/html": [
       "<div>\n",
       "<style scoped>\n",
       "    .dataframe tbody tr th:only-of-type {\n",
       "        vertical-align: middle;\n",
       "    }\n",
       "\n",
       "    .dataframe tbody tr th {\n",
       "        vertical-align: top;\n",
       "    }\n",
       "\n",
       "    .dataframe thead th {\n",
       "        text-align: right;\n",
       "    }\n",
       "</style>\n",
       "<table border=\"1\" class=\"dataframe\">\n",
       "  <thead>\n",
       "    <tr style=\"text-align: right;\">\n",
       "      <th></th>\n",
       "      <th>imdb_title_id</th>\n",
       "      <th>title</th>\n",
       "      <th>original_title</th>\n",
       "      <th>year</th>\n",
       "      <th>date_published</th>\n",
       "      <th>genre</th>\n",
       "      <th>duration</th>\n",
       "      <th>country</th>\n",
       "      <th>language</th>\n",
       "      <th>director</th>\n",
       "      <th>...</th>\n",
       "      <th>actors</th>\n",
       "      <th>description</th>\n",
       "      <th>avg_vote</th>\n",
       "      <th>votes</th>\n",
       "      <th>budget</th>\n",
       "      <th>usa_gross_income</th>\n",
       "      <th>worlwide_gross_income</th>\n",
       "      <th>metascore</th>\n",
       "      <th>reviews_from_users</th>\n",
       "      <th>reviews_from_critics</th>\n",
       "    </tr>\n",
       "  </thead>\n",
       "  <tbody>\n",
       "    <tr>\n",
       "      <th>0</th>\n",
       "      <td>tt0458349</td>\n",
       "      <td>Final Contract: Death on Delivery</td>\n",
       "      <td>Final Contract: Death on Delivery</td>\n",
       "      <td>2006</td>\n",
       "      <td>10/11/2008</td>\n",
       "      <td>Action</td>\n",
       "      <td>97</td>\n",
       "      <td>Germany</td>\n",
       "      <td>English</td>\n",
       "      <td>Axel Sand</td>\n",
       "      <td>...</td>\n",
       "      <td>Drew Fuller, Alison King, Ken Bones, Tanja Wen...</td>\n",
       "      <td>David Glover is a young, American man who is w...</td>\n",
       "      <td>5.2</td>\n",
       "      <td>766</td>\n",
       "      <td>NaN</td>\n",
       "      <td>NaN</td>\n",
       "      <td>$1,249,280</td>\n",
       "      <td>NaN</td>\n",
       "      <td>9.0</td>\n",
       "      <td>2.0</td>\n",
       "    </tr>\n",
       "    <tr>\n",
       "      <th>1</th>\n",
       "      <td>tt4711952</td>\n",
       "      <td>Heil</td>\n",
       "      <td>Heil</td>\n",
       "      <td>2015</td>\n",
       "      <td>7/16/2015</td>\n",
       "      <td>Comedy</td>\n",
       "      <td>102</td>\n",
       "      <td>Germany</td>\n",
       "      <td>German</td>\n",
       "      <td>Dietrich BrÃ¼ggemann</td>\n",
       "      <td>...</td>\n",
       "      <td>Benno FÃ¼rmann, Jerry Hoffmann, Liv Lisa Fries...</td>\n",
       "      <td>An African-German Author loses his memory and ...</td>\n",
       "      <td>5.4</td>\n",
       "      <td>703</td>\n",
       "      <td>NaN</td>\n",
       "      <td>NaN</td>\n",
       "      <td>$173,647</td>\n",
       "      <td>NaN</td>\n",
       "      <td>3.0</td>\n",
       "      <td>25.0</td>\n",
       "    </tr>\n",
       "  </tbody>\n",
       "</table>\n",
       "<p>2 rows × 22 columns</p>\n",
       "</div>"
      ],
      "text/plain": [
       "  imdb_title_id                              title  \\\n",
       "0     tt0458349  Final Contract: Death on Delivery   \n",
       "1     tt4711952                               Heil   \n",
       "\n",
       "                      original_title  year date_published   genre  duration  \\\n",
       "0  Final Contract: Death on Delivery  2006     10/11/2008  Action        97   \n",
       "1                               Heil  2015      7/16/2015  Comedy       102   \n",
       "\n",
       "   country language              director  ...  \\\n",
       "0  Germany  English             Axel Sand  ...   \n",
       "1  Germany   German  Dietrich BrÃ¼ggemann  ...   \n",
       "\n",
       "                                              actors  \\\n",
       "0  Drew Fuller, Alison King, Ken Bones, Tanja Wen...   \n",
       "1  Benno FÃ¼rmann, Jerry Hoffmann, Liv Lisa Fries...   \n",
       "\n",
       "                                         description avg_vote votes  budget  \\\n",
       "0  David Glover is a young, American man who is w...      5.2   766     NaN   \n",
       "1  An African-German Author loses his memory and ...      5.4   703     NaN   \n",
       "\n",
       "   usa_gross_income worlwide_gross_income metascore reviews_from_users  \\\n",
       "0               NaN           $1,249,280        NaN                9.0   \n",
       "1               NaN             $173,647        NaN                3.0   \n",
       "\n",
       "   reviews_from_critics  \n",
       "0                   2.0  \n",
       "1                  25.0  \n",
       "\n",
       "[2 rows x 22 columns]"
      ]
     },
     "execution_count": 73,
     "metadata": {},
     "output_type": "execute_result"
    }
   ],
   "source": [
    "m_data.head(2)"
   ]
  },
  {
   "cell_type": "code",
   "execution_count": 74,
   "metadata": {},
   "outputs": [
    {
     "data": {
      "text/plain": [
       "Index(['imdb_title_id', 'title', 'original_title', 'year', 'date_published',\n",
       "       'genre', 'duration', 'country', 'language', 'director', 'writer',\n",
       "       'production_company', 'actors', 'description', 'avg_vote', 'votes',\n",
       "       'budget', 'usa_gross_income', 'worlwide_gross_income', 'metascore',\n",
       "       'reviews_from_users', 'reviews_from_critics'],\n",
       "      dtype='object')"
      ]
     },
     "execution_count": 74,
     "metadata": {},
     "output_type": "execute_result"
    }
   ],
   "source": [
    "m_data.columns"
   ]
  },
  {
   "cell_type": "code",
   "execution_count": 75,
   "metadata": {},
   "outputs": [
    {
     "data": {
      "text/plain": [
       "(59164, 22)"
      ]
     },
     "execution_count": 75,
     "metadata": {},
     "output_type": "execute_result"
    }
   ],
   "source": [
    "m_data.shape"
   ]
  },
  {
   "cell_type": "code",
   "execution_count": 76,
   "metadata": {},
   "outputs": [
    {
     "name": "stdout",
     "output_type": "stream",
     "text": [
      "<class 'pandas.core.frame.DataFrame'>\n",
      "RangeIndex: 59164 entries, 0 to 59163\n",
      "Data columns (total 22 columns):\n",
      " #   Column                 Non-Null Count  Dtype  \n",
      "---  ------                 --------------  -----  \n",
      " 0   imdb_title_id          59164 non-null  object \n",
      " 1   title                  59164 non-null  object \n",
      " 2   original_title         59164 non-null  object \n",
      " 3   year                   59164 non-null  int64  \n",
      " 4   date_published         59164 non-null  object \n",
      " 5   genre                  59164 non-null  object \n",
      " 6   duration               59164 non-null  int64  \n",
      " 7   country                59135 non-null  object \n",
      " 8   language               58610 non-null  object \n",
      " 9   director               59106 non-null  object \n",
      " 10  writer                 58080 non-null  object \n",
      " 11  production_company     56007 non-null  object \n",
      " 12  actors                 59122 non-null  object \n",
      " 13  description            57396 non-null  object \n",
      " 14  avg_vote               59164 non-null  float64\n",
      " 15  votes                  59164 non-null  int64  \n",
      " 16  budget                 16578 non-null  object \n",
      " 17  usa_gross_income       10977 non-null  object \n",
      " 18  worlwide_gross_income  21713 non-null  object \n",
      " 19  metascore              9264 non-null   float64\n",
      " 20  reviews_from_users     54033 non-null  float64\n",
      " 21  reviews_from_critics   51150 non-null  float64\n",
      "dtypes: float64(4), int64(3), object(15)\n",
      "memory usage: 9.9+ MB\n"
     ]
    }
   ],
   "source": [
    "m_data.info()"
   ]
  },
  {
   "cell_type": "code",
   "execution_count": 77,
   "metadata": {},
   "outputs": [
    {
     "data": {
      "text/html": [
       "<div>\n",
       "<style scoped>\n",
       "    .dataframe tbody tr th:only-of-type {\n",
       "        vertical-align: middle;\n",
       "    }\n",
       "\n",
       "    .dataframe tbody tr th {\n",
       "        vertical-align: top;\n",
       "    }\n",
       "\n",
       "    .dataframe thead th {\n",
       "        text-align: right;\n",
       "    }\n",
       "</style>\n",
       "<table border=\"1\" class=\"dataframe\">\n",
       "  <thead>\n",
       "    <tr style=\"text-align: right;\">\n",
       "      <th></th>\n",
       "      <th>year</th>\n",
       "      <th>duration</th>\n",
       "      <th>avg_vote</th>\n",
       "      <th>votes</th>\n",
       "      <th>metascore</th>\n",
       "      <th>reviews_from_users</th>\n",
       "      <th>reviews_from_critics</th>\n",
       "    </tr>\n",
       "  </thead>\n",
       "  <tbody>\n",
       "    <tr>\n",
       "      <th>count</th>\n",
       "      <td>59164.000000</td>\n",
       "      <td>59164.000000</td>\n",
       "      <td>59164.000000</td>\n",
       "      <td>5.916400e+04</td>\n",
       "      <td>9264.000000</td>\n",
       "      <td>54033.000000</td>\n",
       "      <td>51150.000000</td>\n",
       "    </tr>\n",
       "    <tr>\n",
       "      <th>mean</th>\n",
       "      <td>1992.899567</td>\n",
       "      <td>100.567575</td>\n",
       "      <td>5.931198</td>\n",
       "      <td>9.316266e+03</td>\n",
       "      <td>55.810557</td>\n",
       "      <td>43.163567</td>\n",
       "      <td>27.892747</td>\n",
       "    </tr>\n",
       "    <tr>\n",
       "      <th>std</th>\n",
       "      <td>24.028027</td>\n",
       "      <td>26.494961</td>\n",
       "      <td>1.240787</td>\n",
       "      <td>5.217047e+04</td>\n",
       "      <td>17.743438</td>\n",
       "      <td>157.113555</td>\n",
       "      <td>58.679236</td>\n",
       "    </tr>\n",
       "    <tr>\n",
       "      <th>min</th>\n",
       "      <td>1906.000000</td>\n",
       "      <td>40.000000</td>\n",
       "      <td>1.000000</td>\n",
       "      <td>1.000000e+02</td>\n",
       "      <td>1.000000</td>\n",
       "      <td>1.000000</td>\n",
       "      <td>1.000000</td>\n",
       "    </tr>\n",
       "    <tr>\n",
       "      <th>25%</th>\n",
       "      <td>1978.000000</td>\n",
       "      <td>88.000000</td>\n",
       "      <td>5.300000</td>\n",
       "      <td>2.060000e+02</td>\n",
       "      <td>44.000000</td>\n",
       "      <td>4.000000</td>\n",
       "      <td>3.000000</td>\n",
       "    </tr>\n",
       "    <tr>\n",
       "      <th>50%</th>\n",
       "      <td>2002.000000</td>\n",
       "      <td>96.000000</td>\n",
       "      <td>6.100000</td>\n",
       "      <td>4.960000e+02</td>\n",
       "      <td>56.000000</td>\n",
       "      <td>9.000000</td>\n",
       "      <td>8.000000</td>\n",
       "    </tr>\n",
       "    <tr>\n",
       "      <th>75%</th>\n",
       "      <td>2012.000000</td>\n",
       "      <td>108.000000</td>\n",
       "      <td>6.800000</td>\n",
       "      <td>1.863250e+03</td>\n",
       "      <td>69.000000</td>\n",
       "      <td>26.000000</td>\n",
       "      <td>24.000000</td>\n",
       "    </tr>\n",
       "    <tr>\n",
       "      <th>max</th>\n",
       "      <td>2019.000000</td>\n",
       "      <td>3360.000000</td>\n",
       "      <td>10.000000</td>\n",
       "      <td>2.159628e+06</td>\n",
       "      <td>100.000000</td>\n",
       "      <td>8302.000000</td>\n",
       "      <td>883.000000</td>\n",
       "    </tr>\n",
       "  </tbody>\n",
       "</table>\n",
       "</div>"
      ],
      "text/plain": [
       "               year      duration      avg_vote         votes    metascore  \\\n",
       "count  59164.000000  59164.000000  59164.000000  5.916400e+04  9264.000000   \n",
       "mean    1992.899567    100.567575      5.931198  9.316266e+03    55.810557   \n",
       "std       24.028027     26.494961      1.240787  5.217047e+04    17.743438   \n",
       "min     1906.000000     40.000000      1.000000  1.000000e+02     1.000000   \n",
       "25%     1978.000000     88.000000      5.300000  2.060000e+02    44.000000   \n",
       "50%     2002.000000     96.000000      6.100000  4.960000e+02    56.000000   \n",
       "75%     2012.000000    108.000000      6.800000  1.863250e+03    69.000000   \n",
       "max     2019.000000   3360.000000     10.000000  2.159628e+06   100.000000   \n",
       "\n",
       "       reviews_from_users  reviews_from_critics  \n",
       "count        54033.000000          51150.000000  \n",
       "mean            43.163567             27.892747  \n",
       "std            157.113555             58.679236  \n",
       "min              1.000000              1.000000  \n",
       "25%              4.000000              3.000000  \n",
       "50%              9.000000              8.000000  \n",
       "75%             26.000000             24.000000  \n",
       "max           8302.000000            883.000000  "
      ]
     },
     "execution_count": 77,
     "metadata": {},
     "output_type": "execute_result"
    }
   ],
   "source": [
    "m_data.describe()"
   ]
  },
  {
   "cell_type": "code",
   "execution_count": 78,
   "metadata": {},
   "outputs": [
    {
     "data": {
      "image/png": "[encoded data removed]",
      "text/plain": [
       "<Figure size 432x288 with 1 Axes>"
      ]
     },
     "metadata": {
      "needs_background": "light"
     },
     "output_type": "display_data"
    }
   ],
   "source": [
    "dfv= m_data['avg_vote'].hist(bins=20) # Bine=s: Intervals"
   ]
  },
  {
   "cell_type": "code",
   "execution_count": 79,
   "metadata": {},
   "outputs": [
    {
     "data": {
      "text/plain": [
       "5.931198025826539"
      ]
     },
     "execution_count": 79,
     "metadata": {},
     "output_type": "execute_result"
    }
   ],
   "source": [
    "C = m_data[\"avg_vote\"].mean()\n",
    "C"
   ]
  },
  {
   "cell_type": "markdown",
   "metadata": {},
   "source": [
    "_Here we can note the average vote value which is __5.9 - 6.2 appx.___ Let us note this value is when the data set has missing values"
   ]
  },
  {
   "cell_type": "code",
   "execution_count": 80,
   "metadata": {},
   "outputs": [
    {
     "data": {
      "image/png": "[encoded data removed]",
      "text/plain": [
       "<Figure size 432x288 with 1 Axes>"
      ]
     },
     "metadata": {
      "needs_background": "light"
     },
     "output_type": "display_data"
    }
   ],
   "source": [
    "vote_hist= m_data['votes'].hist(bins=20)"
   ]
  },
  {
   "cell_type": "code",
   "execution_count": 81,
   "metadata": {},
   "outputs": [
    {
     "data": {
      "text/plain": [
       "<matplotlib.axes._subplots.AxesSubplot at 0x1672d7a1b70>"
      ]
     },
     "execution_count": 81,
     "metadata": {},
     "output_type": "execute_result"
    },
    {
     "data": {
      "image/png": "[encoded data removed]",
      "text/plain": [
       "<Figure size 432x288 with 1 Axes>"
      ]
     },
     "metadata": {
      "needs_background": "light"
     },
     "output_type": "display_data"
    }
   ],
   "source": [
    "sns.boxplot(m_data[\"avg_vote\"])"
   ]
  },
  {
   "cell_type": "code",
   "execution_count": 82,
   "metadata": {},
   "outputs": [
    {
     "data": {
      "text/plain": [
       "<matplotlib.axes._subplots.AxesSubplot at 0x1672f401cc0>"
      ]
     },
     "execution_count": 82,
     "metadata": {},
     "output_type": "execute_result"
    },
    {
     "data": {
      "image/png": "[encoded data removed]",
      "text/plain": [
       "<Figure size 432x288 with 1 Axes>"
      ]
     },
     "metadata": {
      "needs_background": "light"
     },
     "output_type": "display_data"
    }
   ],
   "source": [
    "sns.boxplot(m_data[\"votes\"])"
   ]
  },
  {
   "cell_type": "markdown",
   "metadata": {},
   "source": [
    "__There are too many outliers in the data set wrt avg_vote & votes__"
   ]
  },
  {
   "cell_type": "markdown",
   "metadata": {},
   "source": [
    "### Handling the missing values"
   ]
  },
  {
   "cell_type": "code",
   "execution_count": 83,
   "metadata": {},
   "outputs": [
    {
     "data": {
      "text/plain": [
       "imdb_title_id                0\n",
       "title                        0\n",
       "original_title               0\n",
       "year                         0\n",
       "date_published               0\n",
       "genre                        0\n",
       "duration                     0\n",
       "country                     29\n",
       "language                   554\n",
       "director                    58\n",
       "writer                    1084\n",
       "production_company        3157\n",
       "actors                      42\n",
       "description               1768\n",
       "avg_vote                     0\n",
       "votes                        0\n",
       "budget                   42586\n",
       "usa_gross_income         48187\n",
       "worlwide_gross_income    37451\n",
       "metascore                49900\n",
       "reviews_from_users        5131\n",
       "reviews_from_critics      8014\n",
       "dtype: int64"
      ]
     },
     "execution_count": 83,
     "metadata": {},
     "output_type": "execute_result"
    }
   ],
   "source": [
    "m_data.isnull().sum()"
   ]
  },
  {
   "cell_type": "markdown",
   "metadata": {},
   "source": [
    "___From the above data we can observe that the columns: 'country, language, director writer, production_company, actors, description etc. has the missing values ___"
   ]
  },
  {
   "cell_type": "code",
   "execution_count": 84,
   "metadata": {},
   "outputs": [
    {
     "data": {
      "text/plain": [
       "duration    0\n",
       "avg_vote    0\n",
       "votes       0\n",
       "dtype: int64"
      ]
     },
     "execution_count": 84,
     "metadata": {},
     "output_type": "execute_result"
    }
   ],
   "source": [
    "num_missing = (m_data[['duration','avg_vote','votes']]==0).sum()\n",
    "num_missing"
   ]
  },
  {
   "cell_type": "code",
   "execution_count": 85,
   "metadata": {},
   "outputs": [
    {
     "data": {
      "text/plain": [
       "(59164, 22)"
      ]
     },
     "execution_count": 85,
     "metadata": {},
     "output_type": "execute_result"
    }
   ],
   "source": [
    "m_data.shape"
   ]
  },
  {
   "cell_type": "code",
   "execution_count": 86,
   "metadata": {},
   "outputs": [
    {
     "data": {
      "text/plain": [
       "(4652, 22)"
      ]
     },
     "execution_count": 86,
     "metadata": {},
     "output_type": "execute_result"
    }
   ],
   "source": [
    "m_data[['duration','avg_vote','votes']]= m_data[['duration','avg_vote','votes']].replace(0,nan)\n",
    "m_data.dropna(inplace=True)\n",
    "m_data.shape"
   ]
  },
  {
   "cell_type": "code",
   "execution_count": 39,
   "metadata": {},
   "outputs": [
    {
     "data": {
      "text/html": [
       "<div>\n",
       "<style scoped>\n",
       "    .dataframe tbody tr th:only-of-type {\n",
       "        vertical-align: middle;\n",
       "    }\n",
       "\n",
       "    .dataframe tbody tr th {\n",
       "        vertical-align: top;\n",
       "    }\n",
       "\n",
       "    .dataframe thead th {\n",
       "        text-align: right;\n",
       "    }\n",
       "</style>\n",
       "<table border=\"1\" class=\"dataframe\">\n",
       "  <thead>\n",
       "    <tr style=\"text-align: right;\">\n",
       "      <th></th>\n",
       "      <th>imdb_title_id</th>\n",
       "      <th>title</th>\n",
       "      <th>original_title</th>\n",
       "      <th>year</th>\n",
       "      <th>date_published</th>\n",
       "      <th>genre</th>\n",
       "      <th>duration</th>\n",
       "      <th>country</th>\n",
       "      <th>language</th>\n",
       "      <th>director</th>\n",
       "      <th>...</th>\n",
       "      <th>actors</th>\n",
       "      <th>description</th>\n",
       "      <th>avg_vote</th>\n",
       "      <th>votes</th>\n",
       "      <th>budget</th>\n",
       "      <th>usa_gross_income</th>\n",
       "      <th>worlwide_gross_income</th>\n",
       "      <th>metascore</th>\n",
       "      <th>reviews_from_users</th>\n",
       "      <th>reviews_from_critics</th>\n",
       "    </tr>\n",
       "  </thead>\n",
       "  <tbody>\n",
       "    <tr>\n",
       "      <th>12</th>\n",
       "      <td>tt0309987</td>\n",
       "      <td>The Dreamers</td>\n",
       "      <td>The Dreamers</td>\n",
       "      <td>2003</td>\n",
       "      <td>10/10/2003</td>\n",
       "      <td>Drama, Romance</td>\n",
       "      <td>115</td>\n",
       "      <td>UK, France, Italy</td>\n",
       "      <td>English, French</td>\n",
       "      <td>Bernardo Bertolucci</td>\n",
       "      <td>...</td>\n",
       "      <td>Michael Pitt, Eva Green, Louis Garrel, Anna Ch...</td>\n",
       "      <td>A young American studying in Paris in 1968 str...</td>\n",
       "      <td>7.2</td>\n",
       "      <td>103172</td>\n",
       "      <td>$15,000,000</td>\n",
       "      <td>$2,532,228</td>\n",
       "      <td>$15,121,165</td>\n",
       "      <td>62.0</td>\n",
       "      <td>264.0</td>\n",
       "      <td>196.0</td>\n",
       "    </tr>\n",
       "    <tr>\n",
       "      <th>31</th>\n",
       "      <td>tt0096054</td>\n",
       "      <td>School Daze</td>\n",
       "      <td>School Daze</td>\n",
       "      <td>1988</td>\n",
       "      <td>2/12/1988</td>\n",
       "      <td>Comedy, Drama, Musical</td>\n",
       "      <td>121</td>\n",
       "      <td>USA</td>\n",
       "      <td>English</td>\n",
       "      <td>Spike Lee</td>\n",
       "      <td>...</td>\n",
       "      <td>Laurence Fishburne, Giancarlo Esposito, Tisha ...</td>\n",
       "      <td>A not so popular young man wants to pledge to ...</td>\n",
       "      <td>6.0</td>\n",
       "      <td>5695</td>\n",
       "      <td>$6,500,000</td>\n",
       "      <td>$14,545,844</td>\n",
       "      <td>$14,545,844</td>\n",
       "      <td>49.0</td>\n",
       "      <td>41.0</td>\n",
       "      <td>23.0</td>\n",
       "    </tr>\n",
       "    <tr>\n",
       "      <th>49</th>\n",
       "      <td>tt0384488</td>\n",
       "      <td>Saint Ralph</td>\n",
       "      <td>Saint Ralph</td>\n",
       "      <td>2004</td>\n",
       "      <td>4/8/2005</td>\n",
       "      <td>Comedy, Drama, Sport</td>\n",
       "      <td>98</td>\n",
       "      <td>Canada</td>\n",
       "      <td>English</td>\n",
       "      <td>Michael McGowan</td>\n",
       "      <td>...</td>\n",
       "      <td>Adam Butcher, Michael Kanev, Gordon Pinsent, T...</td>\n",
       "      <td>Saint Ralph is the unlikely story of Ralph Wal...</td>\n",
       "      <td>7.4</td>\n",
       "      <td>5643</td>\n",
       "      <td>CAD 6000000</td>\n",
       "      <td>$489,389</td>\n",
       "      <td>$1,881,975</td>\n",
       "      <td>51.0</td>\n",
       "      <td>56.0</td>\n",
       "      <td>46.0</td>\n",
       "    </tr>\n",
       "  </tbody>\n",
       "</table>\n",
       "<p>3 rows × 22 columns</p>\n",
       "</div>"
      ],
      "text/plain": [
       "   imdb_title_id         title original_title  year date_published  \\\n",
       "12     tt0309987  The Dreamers   The Dreamers  2003     10/10/2003   \n",
       "31     tt0096054   School Daze    School Daze  1988      2/12/1988   \n",
       "49     tt0384488   Saint Ralph    Saint Ralph  2004       4/8/2005   \n",
       "\n",
       "                     genre  duration            country         language  \\\n",
       "12          Drama, Romance       115  UK, France, Italy  English, French   \n",
       "31  Comedy, Drama, Musical       121                USA          English   \n",
       "49    Comedy, Drama, Sport        98             Canada          English   \n",
       "\n",
       "               director  ...  \\\n",
       "12  Bernardo Bertolucci  ...   \n",
       "31            Spike Lee  ...   \n",
       "49      Michael McGowan  ...   \n",
       "\n",
       "                                               actors  \\\n",
       "12  Michael Pitt, Eva Green, Louis Garrel, Anna Ch...   \n",
       "31  Laurence Fishburne, Giancarlo Esposito, Tisha ...   \n",
       "49  Adam Butcher, Michael Kanev, Gordon Pinsent, T...   \n",
       "\n",
       "                                          description avg_vote   votes  \\\n",
       "12  A young American studying in Paris in 1968 str...      7.2  103172   \n",
       "31  A not so popular young man wants to pledge to ...      6.0    5695   \n",
       "49  Saint Ralph is the unlikely story of Ralph Wal...      7.4    5643   \n",
       "\n",
       "          budget  usa_gross_income worlwide_gross_income metascore  \\\n",
       "12  $15,000,000        $2,532,228           $15,121,165       62.0   \n",
       "31   $6,500,000       $14,545,844           $14,545,844       49.0   \n",
       "49   CAD 6000000         $489,389            $1,881,975       51.0   \n",
       "\n",
       "   reviews_from_users  reviews_from_critics  \n",
       "12              264.0                 196.0  \n",
       "31               41.0                  23.0  \n",
       "49               56.0                  46.0  \n",
       "\n",
       "[3 rows x 22 columns]"
      ]
     },
     "execution_count": 39,
     "metadata": {},
     "output_type": "execute_result"
    }
   ],
   "source": [
    "m_data.head(3)"
   ]
  },
  {
   "cell_type": "code",
   "execution_count": 46,
   "metadata": {},
   "outputs": [],
   "source": [
    "# m_data = m_data['avg_vote']>"
   ]
  },
  {
   "cell_type": "code",
   "execution_count": 87,
   "metadata": {},
   "outputs": [
    {
     "data": {
      "text/plain": [
       "imdb_title_id            0\n",
       "title                    0\n",
       "original_title           0\n",
       "year                     0\n",
       "date_published           0\n",
       "genre                    0\n",
       "duration                 0\n",
       "country                  0\n",
       "language                 0\n",
       "director                 0\n",
       "writer                   0\n",
       "production_company       0\n",
       "actors                   0\n",
       "description              0\n",
       "avg_vote                 0\n",
       "votes                    0\n",
       "budget                   0\n",
       "usa_gross_income         0\n",
       "worlwide_gross_income    0\n",
       "metascore                0\n",
       "reviews_from_users       0\n",
       "reviews_from_critics     0\n",
       "dtype: int64"
      ]
     },
     "execution_count": 87,
     "metadata": {},
     "output_type": "execute_result"
    }
   ],
   "source": [
    "m_data.isnull().sum()"
   ]
  },
  {
   "cell_type": "markdown",
   "metadata": {},
   "source": [
    "__Here we can observe that the final data now has no missing values in it__"
   ]
  },
  {
   "cell_type": "code",
   "execution_count": 88,
   "metadata": {},
   "outputs": [
    {
     "data": {
      "image/png": "[encoded data removed]",
      "text/plain": [
       "<Figure size 432x288 with 1 Axes>"
      ]
     },
     "metadata": {
      "needs_background": "light"
     },
     "output_type": "display_data"
    }
   ],
   "source": [
    "dfv= m_data['avg_vote'].hist(bins=20) # Bine=s: Intervals"
   ]
  },
  {
   "cell_type": "markdown",
   "metadata": {},
   "source": [
    "_From the above histogramgraph we can observe that the average vote is maximum around __6.5 - 7___"
   ]
  },
  {
   "cell_type": "code",
   "execution_count": 89,
   "metadata": {},
   "outputs": [
    {
     "data": {
      "text/plain": [
       "6.454772141014606"
      ]
     },
     "execution_count": 89,
     "metadata": {},
     "output_type": "execute_result"
    }
   ],
   "source": [
    "C1 = m_data[\"avg_vote\"].mean()\n",
    "C1"
   ]
  },
  {
   "cell_type": "markdown",
   "metadata": {},
   "source": [
    "- the mean rating for all the movies is approx 6.5 on a scale of 10"
   ]
  },
  {
   "cell_type": "code",
   "execution_count": 90,
   "metadata": {},
   "outputs": [
    {
     "data": {
      "image/png": "[encoded data removed]",
      "text/plain": [
       "<Figure size 432x288 with 1 Axes>"
      ]
     },
     "metadata": {
      "needs_background": "light"
     },
     "output_type": "display_data"
    }
   ],
   "source": [
    "vote_hist= m_data['votes'].hist(bins=20)"
   ]
  },
  {
   "cell_type": "code",
   "execution_count": 91,
   "metadata": {},
   "outputs": [
    {
     "data": {
      "text/plain": [
       "<matplotlib.axes._subplots.AxesSubplot at 0x1672f51de80>"
      ]
     },
     "execution_count": 91,
     "metadata": {},
     "output_type": "execute_result"
    },
    {
     "data": {
      "image/png": "[encoded data removed]",
      "text/plain": [
       "<Figure size 432x288 with 1 Axes>"
      ]
     },
     "metadata": {
      "needs_background": "light"
     },
     "output_type": "display_data"
    }
   ],
   "source": [
    "sns.boxplot(m_data[\"avg_vote\"])"
   ]
  },
  {
   "cell_type": "code",
   "execution_count": 92,
   "metadata": {},
   "outputs": [
    {
     "data": {
      "text/plain": [
       "<matplotlib.axes._subplots.AxesSubplot at 0x1672f760ba8>"
      ]
     },
     "execution_count": 92,
     "metadata": {},
     "output_type": "execute_result"
    },
    {
     "data": {
      "image/png": "[encoded data removed]",
      "text/plain": [
       "<Figure size 432x288 with 1 Axes>"
      ]
     },
     "metadata": {
      "needs_background": "light"
     },
     "output_type": "display_data"
    }
   ],
   "source": [
    "sns.boxplot(m_data[\"votes\"])"
   ]
  },
  {
   "cell_type": "markdown",
   "metadata": {},
   "source": [
    "__We can observe that while comaring the box plot, before & after handling the null values, there is a significant diffecence. Though still outlier exists but we can move forward for now__"
   ]
  },
  {
   "cell_type": "code",
   "execution_count": 93,
   "metadata": {},
   "outputs": [
    {
     "data": {
      "text/plain": [
       "107.90455717970765"
      ]
     },
     "execution_count": 93,
     "metadata": {},
     "output_type": "execute_result"
    }
   ],
   "source": [
    "avg_dur = m_data[\"duration\"].mean()\n",
    "avg_dur"
   ]
  },
  {
   "cell_type": "code",
   "execution_count": 94,
   "metadata": {},
   "outputs": [
    {
     "data": {
      "text/plain": [
       "233737.1000000003"
      ]
     },
     "execution_count": 94,
     "metadata": {},
     "output_type": "execute_result"
    }
   ],
   "source": [
    "m = m_data[\"votes\"].quantile(0.9) # 90% of the data is taken into consideraation\n",
    "m # Shows the value where the 90% of the data lies around"
   ]
  },
  {
   "cell_type": "code",
   "execution_count": 95,
   "metadata": {},
   "outputs": [],
   "source": [
    "# m_data['worlwide_gross_income'].unique()"
   ]
  },
  {
   "cell_type": "markdown",
   "metadata": {},
   "source": [
    "- get movies with more than 100min."
   ]
  },
  {
   "cell_type": "code",
   "execution_count": 96,
   "metadata": {},
   "outputs": [
    {
     "data": {
      "text/plain": [
       "(2781, 22)"
      ]
     },
     "execution_count": 96,
     "metadata": {},
     "output_type": "execute_result"
    }
   ],
   "source": [
    "# Filtering the qualified movies for the use\n",
    "q_mov = m_data.copy().loc[(m_data[\"duration\"]>100)]\n",
    "\n",
    "q_mov.shape"
   ]
  },
  {
   "cell_type": "code",
   "execution_count": 97,
   "metadata": {},
   "outputs": [],
   "source": [
    "q_mov = q_mov[q_mov[\"votes\"]>=m] #of these values in q_mov, how many satisfy this condition"
   ]
  },
  {
   "cell_type": "code",
   "execution_count": 98,
   "metadata": {},
   "outputs": [
    {
     "data": {
      "text/plain": [
       "(401, 22)"
      ]
     },
     "execution_count": 98,
     "metadata": {},
     "output_type": "execute_result"
    }
   ],
   "source": [
    "q_mov.shape"
   ]
  },
  {
   "cell_type": "markdown",
   "metadata": {},
   "source": [
    "- Here we can observe that __401__ movies qualify for the condition we mentioned above, which are, average rating __>=m__ & duration __>100min__ considering the average minutes all user watch."
   ]
  },
  {
   "cell_type": "code",
   "execution_count": 99,
   "metadata": {},
   "outputs": [
    {
     "data": {
      "text/plain": [
       "93       True\n",
       "295      True\n",
       "297      True\n",
       "348      True\n",
       "353      True\n",
       "         ... \n",
       "58677    True\n",
       "58762    True\n",
       "58779    True\n",
       "59062    True\n",
       "59071    True\n",
       "Name: votes, Length: 401, dtype: bool"
      ]
     },
     "execution_count": 99,
     "metadata": {},
     "output_type": "execute_result"
    }
   ],
   "source": [
    "q_mov['votes']>m"
   ]
  },
  {
   "cell_type": "markdown",
   "metadata": {},
   "source": [
    "### Calculating the Weighted rating\n",
    "\n",
    "![](https://image.ibb.co/jYWZp9/wr.png)\n",
    "\n",
    "\n",
    "- v is the number of votes for the movie;\n",
    "\n",
    "- m is the minimum votes required to be listed in the chart;\n",
    "\n",
    "- R is the average rating of the movie; And\n",
    "\n",
    "- C is the mean vote across the whole report"
   ]
  },
  {
   "cell_type": "code",
   "execution_count": 100,
   "metadata": {},
   "outputs": [],
   "source": [
    "def weighted_rating(x,m=m,C1=C1): # m- average of the total vote_average\n",
    "    v = x['votes'] # Total number of votes\n",
    "    R = x['avg_vote'] # average votes\n",
    "    return (v/(v+m)*R)+(m/(m+v)*C1) #C1 here is average vote after handling the missing values"
   ]
  },
  {
   "cell_type": "code",
   "execution_count": 101,
   "metadata": {},
   "outputs": [],
   "source": [
    "q_mov['score']=q_mov.apply(weighted_rating, axis=1)"
   ]
  },
  {
   "cell_type": "code",
   "execution_count": 102,
   "metadata": {},
   "outputs": [
    {
     "data": {
      "text/html": [
       "<div>\n",
       "<style scoped>\n",
       "    .dataframe tbody tr th:only-of-type {\n",
       "        vertical-align: middle;\n",
       "    }\n",
       "\n",
       "    .dataframe tbody tr th {\n",
       "        vertical-align: top;\n",
       "    }\n",
       "\n",
       "    .dataframe thead th {\n",
       "        text-align: right;\n",
       "    }\n",
       "</style>\n",
       "<table border=\"1\" class=\"dataframe\">\n",
       "  <thead>\n",
       "    <tr style=\"text-align: right;\">\n",
       "      <th></th>\n",
       "      <th>imdb_title_id</th>\n",
       "      <th>title</th>\n",
       "      <th>original_title</th>\n",
       "      <th>year</th>\n",
       "      <th>date_published</th>\n",
       "      <th>genre</th>\n",
       "      <th>duration</th>\n",
       "      <th>country</th>\n",
       "      <th>language</th>\n",
       "      <th>director</th>\n",
       "      <th>...</th>\n",
       "      <th>description</th>\n",
       "      <th>avg_vote</th>\n",
       "      <th>votes</th>\n",
       "      <th>budget</th>\n",
       "      <th>usa_gross_income</th>\n",
       "      <th>worlwide_gross_income</th>\n",
       "      <th>metascore</th>\n",
       "      <th>reviews_from_users</th>\n",
       "      <th>reviews_from_critics</th>\n",
       "      <th>score</th>\n",
       "    </tr>\n",
       "  </thead>\n",
       "  <tbody>\n",
       "    <tr>\n",
       "      <th>93</th>\n",
       "      <td>tt0478311</td>\n",
       "      <td>Knocked Up</td>\n",
       "      <td>Knocked Up</td>\n",
       "      <td>2007</td>\n",
       "      <td>8/24/2007</td>\n",
       "      <td>Comedy, Romance</td>\n",
       "      <td>129</td>\n",
       "      <td>USA</td>\n",
       "      <td>English</td>\n",
       "      <td>Judd Apatow</td>\n",
       "      <td>...</td>\n",
       "      <td>For fun-loving party animal Ben Stone, the las...</td>\n",
       "      <td>6.9</td>\n",
       "      <td>336347</td>\n",
       "      <td>$30,000,000</td>\n",
       "      <td>$148,768,917</td>\n",
       "      <td>$219,076,518</td>\n",
       "      <td>85.0</td>\n",
       "      <td>578.0</td>\n",
       "      <td>242.0</td>\n",
       "      <td>6.717455</td>\n",
       "    </tr>\n",
       "    <tr>\n",
       "      <th>295</th>\n",
       "      <td>tt1245492</td>\n",
       "      <td>This Is the End</td>\n",
       "      <td>This Is the End</td>\n",
       "      <td>2013</td>\n",
       "      <td>6/28/2013</td>\n",
       "      <td>Comedy</td>\n",
       "      <td>107</td>\n",
       "      <td>USA</td>\n",
       "      <td>English, Spanish</td>\n",
       "      <td>Evan Goldberg, Seth Rogen</td>\n",
       "      <td>...</td>\n",
       "      <td>6 Los Angeles celebrities are stuck in James F...</td>\n",
       "      <td>6.6</td>\n",
       "      <td>366889</td>\n",
       "      <td>$32,000,000</td>\n",
       "      <td>$101,470,202</td>\n",
       "      <td>$126,041,322</td>\n",
       "      <td>67.0</td>\n",
       "      <td>735.0</td>\n",
       "      <td>408.0</td>\n",
       "      <td>6.543484</td>\n",
       "    </tr>\n",
       "    <tr>\n",
       "      <th>297</th>\n",
       "      <td>tt0259711</td>\n",
       "      <td>Vanilla Sky</td>\n",
       "      <td>Vanilla Sky</td>\n",
       "      <td>2001</td>\n",
       "      <td>1/25/2002</td>\n",
       "      <td>Fantasy, Mystery, Romance</td>\n",
       "      <td>136</td>\n",
       "      <td>USA, Spain</td>\n",
       "      <td>English, Spanish</td>\n",
       "      <td>Cameron Crowe</td>\n",
       "      <td>...</td>\n",
       "      <td>A self-indulgent and vain publishing magnate f...</td>\n",
       "      <td>6.9</td>\n",
       "      <td>237485</td>\n",
       "      <td>$68,000,000</td>\n",
       "      <td>$100,618,344</td>\n",
       "      <td>$203,388,341</td>\n",
       "      <td>45.0</td>\n",
       "      <td>1276.0</td>\n",
       "      <td>150.0</td>\n",
       "      <td>6.679157</td>\n",
       "    </tr>\n",
       "    <tr>\n",
       "      <th>348</th>\n",
       "      <td>tt0443706</td>\n",
       "      <td>Zodiac</td>\n",
       "      <td>Zodiac</td>\n",
       "      <td>2007</td>\n",
       "      <td>5/18/2007</td>\n",
       "      <td>Crime, Drama, Mystery</td>\n",
       "      <td>157</td>\n",
       "      <td>USA</td>\n",
       "      <td>English</td>\n",
       "      <td>David Fincher</td>\n",
       "      <td>...</td>\n",
       "      <td>In the late 1960s/early 1970s, a San Francisco...</td>\n",
       "      <td>7.7</td>\n",
       "      <td>407046</td>\n",
       "      <td>$65,000,000</td>\n",
       "      <td>$33,080,084</td>\n",
       "      <td>$84,785,914</td>\n",
       "      <td>78.0</td>\n",
       "      <td>698.0</td>\n",
       "      <td>403.0</td>\n",
       "      <td>7.245781</td>\n",
       "    </tr>\n",
       "    <tr>\n",
       "      <th>353</th>\n",
       "      <td>tt2771200</td>\n",
       "      <td>Beauty and the Beast</td>\n",
       "      <td>Beauty and the Beast</td>\n",
       "      <td>2017</td>\n",
       "      <td>3/17/2017</td>\n",
       "      <td>Family, Fantasy, Musical</td>\n",
       "      <td>129</td>\n",
       "      <td>USA</td>\n",
       "      <td>English</td>\n",
       "      <td>Bill Condon</td>\n",
       "      <td>...</td>\n",
       "      <td>A selfish prince is cursed to become a monster...</td>\n",
       "      <td>7.2</td>\n",
       "      <td>248356</td>\n",
       "      <td>$160,000,000</td>\n",
       "      <td>$504,014,165</td>\n",
       "      <td>$1,263,521,126</td>\n",
       "      <td>65.0</td>\n",
       "      <td>1049.0</td>\n",
       "      <td>514.0</td>\n",
       "      <td>6.838685</td>\n",
       "    </tr>\n",
       "  </tbody>\n",
       "</table>\n",
       "<p>5 rows × 23 columns</p>\n",
       "</div>"
      ],
      "text/plain": [
       "    imdb_title_id                 title        original_title  year  \\\n",
       "93      tt0478311            Knocked Up            Knocked Up  2007   \n",
       "295     tt1245492       This Is the End       This Is the End  2013   \n",
       "297     tt0259711           Vanilla Sky           Vanilla Sky  2001   \n",
       "348     tt0443706                Zodiac                Zodiac  2007   \n",
       "353     tt2771200  Beauty and the Beast  Beauty and the Beast  2017   \n",
       "\n",
       "    date_published                      genre  duration     country  \\\n",
       "93       8/24/2007            Comedy, Romance       129         USA   \n",
       "295      6/28/2013                     Comedy       107         USA   \n",
       "297      1/25/2002  Fantasy, Mystery, Romance       136  USA, Spain   \n",
       "348      5/18/2007      Crime, Drama, Mystery       157         USA   \n",
       "353      3/17/2017   Family, Fantasy, Musical       129         USA   \n",
       "\n",
       "             language                   director  ...  \\\n",
       "93            English                Judd Apatow  ...   \n",
       "295  English, Spanish  Evan Goldberg, Seth Rogen  ...   \n",
       "297  English, Spanish              Cameron Crowe  ...   \n",
       "348           English              David Fincher  ...   \n",
       "353           English                Bill Condon  ...   \n",
       "\n",
       "                                           description avg_vote   votes  \\\n",
       "93   For fun-loving party animal Ben Stone, the las...      6.9  336347   \n",
       "295  6 Los Angeles celebrities are stuck in James F...      6.6  366889   \n",
       "297  A self-indulgent and vain publishing magnate f...      6.9  237485   \n",
       "348  In the late 1960s/early 1970s, a San Francisco...      7.7  407046   \n",
       "353  A selfish prince is cursed to become a monster...      7.2  248356   \n",
       "\n",
       "            budget  usa_gross_income  worlwide_gross_income metascore  \\\n",
       "93    $30,000,000      $148,768,917           $219,076,518       85.0   \n",
       "295   $32,000,000      $101,470,202           $126,041,322       67.0   \n",
       "297   $68,000,000      $100,618,344           $203,388,341       45.0   \n",
       "348   $65,000,000       $33,080,084            $84,785,914       78.0   \n",
       "353  $160,000,000      $504,014,165         $1,263,521,126       65.0   \n",
       "\n",
       "    reviews_from_users reviews_from_critics     score  \n",
       "93               578.0                242.0  6.717455  \n",
       "295              735.0                408.0  6.543484  \n",
       "297             1276.0                150.0  6.679157  \n",
       "348              698.0                403.0  7.245781  \n",
       "353             1049.0                514.0  6.838685  \n",
       "\n",
       "[5 rows x 23 columns]"
      ]
     },
     "execution_count": 102,
     "metadata": {},
     "output_type": "execute_result"
    }
   ],
   "source": [
    "q_mov.head()"
   ]
  },
  {
   "cell_type": "code",
   "execution_count": 103,
   "metadata": {},
   "outputs": [],
   "source": [
    "q_mov=q_mov.sort_values('score', ascending=False)"
   ]
  },
  {
   "cell_type": "code",
   "execution_count": 104,
   "metadata": {},
   "outputs": [
    {
     "data": {
      "text/html": [
       "<div>\n",
       "<style scoped>\n",
       "    .dataframe tbody tr th:only-of-type {\n",
       "        vertical-align: middle;\n",
       "    }\n",
       "\n",
       "    .dataframe tbody tr th {\n",
       "        vertical-align: top;\n",
       "    }\n",
       "\n",
       "    .dataframe thead th {\n",
       "        text-align: right;\n",
       "    }\n",
       "</style>\n",
       "<table border=\"1\" class=\"dataframe\">\n",
       "  <thead>\n",
       "    <tr style=\"text-align: right;\">\n",
       "      <th></th>\n",
       "      <th>title</th>\n",
       "      <th>votes</th>\n",
       "      <th>avg_vote</th>\n",
       "      <th>score</th>\n",
       "    </tr>\n",
       "  </thead>\n",
       "  <tbody>\n",
       "    <tr>\n",
       "      <th>48056</th>\n",
       "      <td>The Shawshank Redemption</td>\n",
       "      <td>2159628</td>\n",
       "      <td>9.3</td>\n",
       "      <td>9.022134</td>\n",
       "    </tr>\n",
       "    <tr>\n",
       "      <th>14735</th>\n",
       "      <td>The Godfather</td>\n",
       "      <td>1482143</td>\n",
       "      <td>9.2</td>\n",
       "      <td>8.826045</td>\n",
       "    </tr>\n",
       "    <tr>\n",
       "      <th>4405</th>\n",
       "      <td>The Dark Knight</td>\n",
       "      <td>2134569</td>\n",
       "      <td>9.0</td>\n",
       "      <td>8.748802</td>\n",
       "    </tr>\n",
       "    <tr>\n",
       "      <th>777</th>\n",
       "      <td>Pulp Fiction</td>\n",
       "      <td>1695085</td>\n",
       "      <td>8.9</td>\n",
       "      <td>8.603684</td>\n",
       "    </tr>\n",
       "    <tr>\n",
       "      <th>34474</th>\n",
       "      <td>The Lord of the Rings: The Return of the King</td>\n",
       "      <td>1533574</td>\n",
       "      <td>8.9</td>\n",
       "      <td>8.576604</td>\n",
       "    </tr>\n",
       "    <tr>\n",
       "      <th>4648</th>\n",
       "      <td>Inception</td>\n",
       "      <td>1892929</td>\n",
       "      <td>8.8</td>\n",
       "      <td>8.542241</td>\n",
       "    </tr>\n",
       "    <tr>\n",
       "      <th>5368</th>\n",
       "      <td>Forrest Gump</td>\n",
       "      <td>1662528</td>\n",
       "      <td>8.8</td>\n",
       "      <td>8.510923</td>\n",
       "    </tr>\n",
       "    <tr>\n",
       "      <th>47762</th>\n",
       "      <td>Schindler's List</td>\n",
       "      <td>1120236</td>\n",
       "      <td>8.9</td>\n",
       "      <td>8.477879</td>\n",
       "    </tr>\n",
       "    <tr>\n",
       "      <th>48210</th>\n",
       "      <td>The Matrix</td>\n",
       "      <td>1554261</td>\n",
       "      <td>8.7</td>\n",
       "      <td>8.406491</td>\n",
       "    </tr>\n",
       "    <tr>\n",
       "      <th>6321</th>\n",
       "      <td>The Lord of the Rings: The Two Towers</td>\n",
       "      <td>1387154</td>\n",
       "      <td>8.7</td>\n",
       "      <td>8.376232</td>\n",
       "    </tr>\n",
       "  </tbody>\n",
       "</table>\n",
       "</div>"
      ],
      "text/plain": [
       "                                               title    votes  avg_vote  \\\n",
       "48056                       The Shawshank Redemption  2159628       9.3   \n",
       "14735                                  The Godfather  1482143       9.2   \n",
       "4405                                 The Dark Knight  2134569       9.0   \n",
       "777                                     Pulp Fiction  1695085       8.9   \n",
       "34474  The Lord of the Rings: The Return of the King  1533574       8.9   \n",
       "4648                                       Inception  1892929       8.8   \n",
       "5368                                    Forrest Gump  1662528       8.8   \n",
       "47762                               Schindler's List  1120236       8.9   \n",
       "48210                                     The Matrix  1554261       8.7   \n",
       "6321           The Lord of the Rings: The Two Towers  1387154       8.7   \n",
       "\n",
       "          score  \n",
       "48056  9.022134  \n",
       "14735  8.826045  \n",
       "4405   8.748802  \n",
       "777    8.603684  \n",
       "34474  8.576604  \n",
       "4648   8.542241  \n",
       "5368   8.510923  \n",
       "47762  8.477879  \n",
       "48210  8.406491  \n",
       "6321   8.376232  "
      ]
     },
     "execution_count": 104,
     "metadata": {},
     "output_type": "execute_result"
    }
   ],
   "source": [
    "q_mov[[\"title\", 'votes','avg_vote','score']].head(10)"
   ]
  },
  {
   "cell_type": "code",
   "execution_count": 190,
   "metadata": {},
   "outputs": [
    {
     "data": {
      "text/plain": [
       "Text(0.5, 1.0, 'Most voted Movies')"
      ]
     },
     "execution_count": 190,
     "metadata": {},
     "output_type": "execute_result"
    },
    {
     "data": {
      "image/png": "[encoded data removed]",
      "text/plain": [
       "<Figure size 864x288 with 1 Axes>"
      ]
     },
     "metadata": {
      "needs_background": "light"
     },
     "output_type": "display_data"
    }
   ],
   "source": [
    "d = q_mov.sort_values('votes',ascending=False)\n",
    "plt.figure(figsize=(12,4))\n",
    "\n",
    "plt.barh(d['title'].head(3),d['votes'].head(3),align='center')\n",
    "plt.gca().invert_yaxis()\n",
    "plt.xlabel('Votes')\n",
    "plt.title(\"Most voted Movies\")"
   ]
  },
  {
   "cell_type": "markdown",
   "metadata": {},
   "source": [
    "- From the above we can observe that the top rated movies based on the user rating are\n",
    "\n",
    "- > 1. Shawshank Redemption\n",
    "- > 2. The Dark Knight\n",
    "- > 3. Inception.\n",
    "\n",
    "which are popular across the population but not specific to particular user."
   ]
  },
  {
   "cell_type": "code",
   "execution_count": null,
   "metadata": {},
   "outputs": [],
   "source": []
  },
  {
   "cell_type": "markdown",
   "metadata": {},
   "source": [
    "# Building a Recommendation system based on other features.\n",
    "\n",
    "- We can see that it is quite generic recommendation so a particular user may or may not like the recommendation as the choices vary from user to user.\n",
    "\n",
    "\n",
    "- So le us try to build a system where features like Cast, Director, Description, genre etc is taken into account & buld a function that returns top 3 similar movies."
   ]
  },
  {
   "cell_type": "markdown",
   "metadata": {},
   "source": [
    "![](https://miro.medium.com/max/2400/1*x8gTiprhLs7zflmEn1UjAQ.png)"
   ]
  },
  {
   "cell_type": "markdown",
   "metadata": {},
   "source": [
    "## Description based approach\n",
    "\n",
    "Here we will compare the short description of each movies & find a pairwise similarity score for all the movies.\n"
   ]
  },
  {
   "cell_type": "markdown",
   "metadata": {},
   "source": [
    "## USING NETFLIX DATA SET"
   ]
  },
  {
   "cell_type": "code",
   "execution_count": 121,
   "metadata": {},
   "outputs": [],
   "source": [
    "# m1_data = pd.read_csv(\"IMDB_movies.csv\")\n",
    "# m1_data.shape"
   ]
  },
  {
   "cell_type": "code",
   "execution_count": 124,
   "metadata": {},
   "outputs": [
    {
     "data": {
      "text/plain": [
       "(4662, 12)"
      ]
     },
     "execution_count": 124,
     "metadata": {},
     "output_type": "execute_result"
    }
   ],
   "source": [
    "nf_data.shape"
   ]
  },
  {
   "cell_type": "code",
   "execution_count": 125,
   "metadata": {},
   "outputs": [
    {
     "data": {
      "text/plain": [
       "0    A look at how a world-renowned medical institu...\n",
       "1    Four individuals in modern India grapple with ...\n",
       "2    In this urban romantic comedy set in Chicago, ...\n",
       "3    Framed for his older brother's murder, a boxer...\n",
       "4    Academy Award-nominated filmmaker Noah Baumbac...\n",
       "Name: description, dtype: object"
      ]
     },
     "execution_count": 125,
     "metadata": {},
     "output_type": "execute_result"
    }
   ],
   "source": [
    "nf_data['description'].head()"
   ]
  },
  {
   "cell_type": "markdown",
   "metadata": {},
   "source": [
    "- > Now let's convert the word vector of each desciption. Calculate the \"Term Frequency-Inverse Document Frequency (TF-IDF) vector for each description.\n",
    "\n",
    "- TF-IDF rulesout the drawback of Bag of Words which is that a word is given similar weightage across the document. Here in tfidf the weightage for words vary as per their importance. \n",
    "\n",
    "![](https://3.bp.blogspot.com/-u928a3xbrsw/UukmRVX_JzI/AAAAAAAAAKE/wIhuNmdQb7E/s1600/td-idf-graphic.png)"
   ]
  },
  {
   "cell_type": "code",
   "execution_count": 126,
   "metadata": {},
   "outputs": [
    {
     "data": {
      "text/plain": [
       "(4662, 12)"
      ]
     },
     "execution_count": 126,
     "metadata": {},
     "output_type": "execute_result"
    }
   ],
   "source": [
    "nf_data.shape"
   ]
  },
  {
   "cell_type": "code",
   "execution_count": 127,
   "metadata": {},
   "outputs": [],
   "source": [
    "#Import TfIdfVectorizer from scikit-learn\n",
    "from sklearn.feature_extraction.text import TfidfVectorizer\n",
    "\n",
    "#TF-IDF Vectorizer Object & remove all the English stop words.\n",
    "tfidf = TfidfVectorizer(stop_words='english')\n",
    "\n",
    "#Replace NaN with an empty string\n",
    "nf_data['description'] = nf_data['description'].fillna('')"
   ]
  },
  {
   "cell_type": "code",
   "execution_count": 128,
   "metadata": {},
   "outputs": [
    {
     "data": {
      "text/plain": [
       "0"
      ]
     },
     "execution_count": 128,
     "metadata": {},
     "output_type": "execute_result"
    }
   ],
   "source": [
    "nf_data['description'].isna().sum()"
   ]
  },
  {
   "cell_type": "code",
   "execution_count": 129,
   "metadata": {},
   "outputs": [],
   "source": [
    "#Creating a tf-idf matrix\n",
    "tfidf_matrix = tfidf.fit_transform(nf_data['description'])"
   ]
  },
  {
   "cell_type": "code",
   "execution_count": 130,
   "metadata": {},
   "outputs": [
    {
     "data": {
      "text/plain": [
       "(4662, 13971)"
      ]
     },
     "execution_count": 130,
     "metadata": {},
     "output_type": "execute_result"
    }
   ],
   "source": [
    "tfidf_matrix.shape #matrix is created"
   ]
  },
  {
   "cell_type": "markdown",
   "metadata": {},
   "source": [
    "- From here we can observe that __59000+__ words used to describe __57000+__ movies qualified"
   ]
  },
  {
   "cell_type": "markdown",
   "metadata": {},
   "source": [
    "### Finding the similarity\n",
    "\n",
    "- > Now we have to create a similarity score to match the pairs.\n",
    "\n",
    "- > This can be done by Pearson similarity, Cosine Similarity or euclidian etc. Each has its own benefit & works better in some or the other conditions. So it's good to experiment with it.\n",
    "\n",
    "- > Will be using Cosine Similarity as it is independent of the magnitude & easy, fast to calculate\n",
    "\n",
    "Given by : The dot product between two vectors is equal to the projection of one of them on the other.\n",
    "\n",
    "![](https://wikimedia.org/api/rest_v1/media/math/render/svg/1d94e5903f7936d3c131e040ef2c51b473dd071d)\n",
    "\n",
    "\n",
    "\n",
    "- The dot product will directly give us the cosine similarity as we are using tf-idf vectorizer. Also, we can use __cosine_similarities()__ or another faster function from __sklearn__ which is __linear_kernel()__"
   ]
  },
  {
   "cell_type": "markdown",
   "metadata": {},
   "source": [
    "#### Using linear_kernel()"
   ]
  },
  {
   "cell_type": "code",
   "execution_count": 131,
   "metadata": {},
   "outputs": [],
   "source": [
    "#importing the linear_kernel\n",
    "from sklearn.metrics.pairwise import linear_kernel\n",
    "\n",
    "#finding the cosine similarity\n",
    "cosine_sim = linear_kernel(tfidf_matrix, tfidf_matrix)"
   ]
  },
  {
   "cell_type": "markdown",
   "metadata": {},
   "source": [
    "### Building a function to take title as input & return similar movies\n",
    "\n",
    "- > We need to reverse map the index of the movies to the titles, ie; identify the index of a movie from m_data & return a title."
   ]
  },
  {
   "cell_type": "code",
   "execution_count": 132,
   "metadata": {},
   "outputs": [],
   "source": [
    "indices = pd.Series(nf_data.index, index=nf_data['title']).drop_duplicates()"
   ]
  },
  {
   "cell_type": "code",
   "execution_count": 133,
   "metadata": {},
   "outputs": [
    {
     "data": {
      "text/plain": [
       "title\n",
       "The Mayo Clinic    0\n",
       "I Am               1\n",
       "Love Jones         2\n",
       "Ghayal             3\n",
       "Marriage Story     4\n",
       "dtype: int64"
      ]
     },
     "execution_count": 133,
     "metadata": {},
     "output_type": "execute_result"
    }
   ],
   "source": [
    "indices.head()"
   ]
  },
  {
   "cell_type": "markdown",
   "metadata": {},
   "source": [
    "## Steps: \n",
    "- get the index of the movie when given the title\n",
    "\n",
    "\n",
    "- get cosine score for that movie with all other movies>> convert to list of tuples >> with (pisition,score) format\n",
    "\n",
    "\n",
    "- sort the list of tuples based on scores\n",
    "\n",
    "\n",
    "- get top 3 from the list & ignoring the 1st as it refers to self.\n",
    "\n",
    "\n",
    "- return the title corresponding to the index"
   ]
  },
  {
   "cell_type": "code",
   "execution_count": 145,
   "metadata": {},
   "outputs": [],
   "source": [
    "def get_recommendations(title, cosine_sim=cosine_sim):\n",
    "    #getting the index\n",
    "    idx = indices[title]\n",
    "    \n",
    "    #retrieve the pairwise similarities for all movies with that mentioned movie\n",
    "    sim_scores = list(enumerate(cosine_sim[idx])) #enumerate used to convert to list of tuples\n",
    "    \n",
    "    #Sorting the movies as per the similarity score\n",
    "    sim_scores = sorted(sim_scores, key= lambda x:x[1], reverse=True) #since its in list of tuple\n",
    "    \n",
    "    #fetch the top 3 most similar movies\n",
    "    sim_scores = sim_scores[1:4]\n",
    "    \n",
    "    #Fetch the movies indices\n",
    "    movie_indices = [i[0] for i in sim_scores]\n",
    "    \n",
    "    # return the top 3 movies\n",
    "    return nf_data['title'].iloc[movie_indices]"
   ]
  },
  {
   "cell_type": "code",
   "execution_count": 146,
   "metadata": {},
   "outputs": [
    {
     "data": {
      "text/plain": [
       "2926    The Bleeding Edge\n",
       "1724          Jersey Boys\n",
       "3486             End Game\n",
       "Name: title, dtype: object"
      ]
     },
     "execution_count": 146,
     "metadata": {},
     "output_type": "execute_result"
    }
   ],
   "source": [
    "get_recommendations('The Mayo Clinic')"
   ]
  },
  {
   "cell_type": "code",
   "execution_count": 147,
   "metadata": {},
   "outputs": [
    {
     "data": {
      "text/plain": [
       "440                         Domino\n",
       "1457    Return To The 36th Chamber\n",
       "1746                       Karzzzz\n",
       "Name: title, dtype: object"
      ]
     },
     "execution_count": 147,
     "metadata": {},
     "output_type": "execute_result"
    }
   ],
   "source": [
    "get_recommendations('Resident Evil: Afterlife')\n",
    "\n",
    "'''Resident Evil: Afterlife: The Undead Apocalypse continues as super-soldier Alice \n",
    "finds her way to a supposed sanctuary in Los Angeles, which'''\n",
    "\n",
    "    \n",
    "\"\"\"Domino: TA Copenhagen police officer hunts for the man who attacked his partner, \n",
    "only to stumble into a high-stakes game of espionage.\"\"\"\n",
    "\n",
    "\n",
    "\"\"\"JReturn To The 36th Chamber:When thugs prey upon innocent factory workers, a \n",
    "small-time scammer trains for revenge by studying the moves of Shaolin temple monks.\"\"\"\n",
    "\n",
    "\n",
    "\"\"\"Karzzzz: When flashbacks reveal that he's the reincarnation of a man murdered by his wife, \n",
    "rock star Monty sets out to get revenge for the decades-old crime.\"\"\"\n",
    "\n",
    "# Above we can observe the description of each movies that has some sort of similarity to Residen Evil"
   ]
  },
  {
   "cell_type": "code",
   "execution_count": null,
   "metadata": {},
   "outputs": [],
   "source": []
  },
  {
   "cell_type": "markdown",
   "metadata": {},
   "source": [
    "#### Using cosine_similarity()"
   ]
  },
  {
   "cell_type": "code",
   "execution_count": 149,
   "metadata": {},
   "outputs": [],
   "source": [
    "from sklearn.metrics.pairwise import cosine_similarity\n",
    "\n",
    "cosine_sim1 = cosine_similarity(tfidf_matrix, tfidf_matrix)"
   ]
  },
  {
   "cell_type": "code",
   "execution_count": 153,
   "metadata": {},
   "outputs": [],
   "source": [
    "def get_recommendations1(title, cosine_sim1=cosine_sim1):\n",
    "    #getting the index\n",
    "    idx = indices[title]\n",
    "    \n",
    "    #retrieve the pairwise similarities for all movies with that mentioned movie\n",
    "    sim_scores = list(enumerate(cosine_sim1[idx])) #enumerate used to convert to list of tuples\n",
    "    \n",
    "    #Sorting the movies as per the similarity score\n",
    "    sim_scores = sorted(sim_scores, key= lambda x:x[1], reverse=True) #since its in list of tuple\n",
    "    \n",
    "    #fetch the top 3 most similar movies\n",
    "    sim_scores = sim_scores[1:4]\n",
    "    \n",
    "    #Fetch the movies indices\n",
    "    movie_indices = [i[0] for i in sim_scores]\n",
    "    \n",
    "    # return the top 3 movies\n",
    "    return nf_data['title'].iloc[movie_indices]"
   ]
  },
  {
   "cell_type": "code",
   "execution_count": 154,
   "metadata": {},
   "outputs": [
    {
     "data": {
      "text/plain": [
       "2926    The Bleeding Edge\n",
       "1724          Jersey Boys\n",
       "3486             End Game\n",
       "Name: title, dtype: object"
      ]
     },
     "execution_count": 154,
     "metadata": {},
     "output_type": "execute_result"
    }
   ],
   "source": [
    "get_recommendations1('The Mayo Clinic')"
   ]
  },
  {
   "cell_type": "code",
   "execution_count": null,
   "metadata": {},
   "outputs": [],
   "source": []
  }
 ],
 "metadata": {
  "kernelspec": {
   "display_name": "Python 3",
   "language": "python",
   "name": "python3"
  },
  "language_info": {
   "codemirror_mode": {
    "name": "ipython",
    "version": 3
   },
   "file_extension": ".py",
   "mimetype": "text/x-python",
   "name": "python",
   "nbconvert_exporter": "python",
   "pygments_lexer": "ipython3",
   "version": "3.6.10"
  }
 },
 "nbformat": 4,
 "nbformat_minor": 4
}
